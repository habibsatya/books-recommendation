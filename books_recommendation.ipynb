{
  "cells": [
    {
      "cell_type": "markdown",
      "metadata": {
        "id": "ktHq-wogqQO1"
      },
      "source": [
        "# Proyek Machine Learning Terapan Bagian Akhir - Lalu Habib Satya Wiguna"
      ]
    },
    {
      "cell_type": "code",
      "execution_count": 3,
      "metadata": {
        "id": "-Ia36hJeqQO7"
      },
      "outputs": [],
      "source": [
        "import pandas as pd\n",
        "import numpy as np\n",
        "import matplotlib.pyplot as plt\n",
        "import seaborn as sns\n",
        "import warnings\n",
        "from sklearn import neighbors\n",
        "from sklearn.cluster import KMeans\n",
        "from sklearn.model_selection import train_test_split\n",
        "from sklearn.preprocessing import MinMaxScaler\n",
        "\n",
        "warnings.filterwarnings('ignore')\n",
        "%matplotlib inline"
      ]
    },
    {
      "cell_type": "markdown",
      "metadata": {
        "id": "JODXkt5OqQO8"
      },
      "source": [
        "## Domain Knowledge\n",
        "Langkah pertama yang kita lakukan adalah melihat isi dataset yang akan digunakan serta memahami setiap atribut yang ada pada dataset tersebut. Dataset yang digunakan yaitu [Goodreads-books](https://www.kaggle.com/datasets/jealousleopard/goodreadsbooks) yang didapaatkan dari situs [kaggle](https://www.kaggle.com)"
      ]
    },
    {
      "cell_type": "code",
      "execution_count": 4,
      "metadata": {
        "colab": {
          "base_uri": "https://localhost:8080/",
          "height": 780
        },
        "id": "-cwgRd7kqQO8",
        "outputId": "ced312b2-c501-4081-d907-e53ccdb53b65"
      },
      "outputs": [
        {
          "data": {
            "text/html": [
              "\n",
              "  <div id=\"df-275bbfb9-b29a-488c-9089-aa26f78cdc14\">\n",
              "    <div class=\"colab-df-container\">\n",
              "      <div>\n",
              "<style scoped>\n",
              "    .dataframe tbody tr th:only-of-type {\n",
              "        vertical-align: middle;\n",
              "    }\n",
              "\n",
              "    .dataframe tbody tr th {\n",
              "        vertical-align: top;\n",
              "    }\n",
              "\n",
              "    .dataframe thead th {\n",
              "        text-align: right;\n",
              "    }\n",
              "</style>\n",
              "<table border=\"1\" class=\"dataframe\">\n",
              "  <thead>\n",
              "    <tr style=\"text-align: right;\">\n",
              "      <th></th>\n",
              "      <th>bookID</th>\n",
              "      <th>title</th>\n",
              "      <th>authors</th>\n",
              "      <th>average_rating</th>\n",
              "      <th>isbn</th>\n",
              "      <th>isbn13</th>\n",
              "      <th>language_code</th>\n",
              "      <th>num_pages</th>\n",
              "      <th>ratings_count</th>\n",
              "      <th>text_reviews_count</th>\n",
              "      <th>publication_date</th>\n",
              "      <th>publisher</th>\n",
              "    </tr>\n",
              "  </thead>\n",
              "  <tbody>\n",
              "    <tr>\n",
              "      <th>0</th>\n",
              "      <td>1</td>\n",
              "      <td>Harry Potter and the Half-Blood Prince (Harry ...</td>\n",
              "      <td>J.K. Rowling/Mary GrandPré</td>\n",
              "      <td>4.57</td>\n",
              "      <td>0439785960</td>\n",
              "      <td>9780439785969</td>\n",
              "      <td>eng</td>\n",
              "      <td>652</td>\n",
              "      <td>2095690</td>\n",
              "      <td>27591</td>\n",
              "      <td>9/16/2006</td>\n",
              "      <td>Scholastic Inc.</td>\n",
              "    </tr>\n",
              "    <tr>\n",
              "      <th>1</th>\n",
              "      <td>2</td>\n",
              "      <td>Harry Potter and the Order of the Phoenix (Har...</td>\n",
              "      <td>J.K. Rowling/Mary GrandPré</td>\n",
              "      <td>4.49</td>\n",
              "      <td>0439358078</td>\n",
              "      <td>9780439358071</td>\n",
              "      <td>eng</td>\n",
              "      <td>870</td>\n",
              "      <td>2153167</td>\n",
              "      <td>29221</td>\n",
              "      <td>9/1/2004</td>\n",
              "      <td>Scholastic Inc.</td>\n",
              "    </tr>\n",
              "    <tr>\n",
              "      <th>2</th>\n",
              "      <td>4</td>\n",
              "      <td>Harry Potter and the Chamber of Secrets (Harry...</td>\n",
              "      <td>J.K. Rowling</td>\n",
              "      <td>4.42</td>\n",
              "      <td>0439554896</td>\n",
              "      <td>9780439554893</td>\n",
              "      <td>eng</td>\n",
              "      <td>352</td>\n",
              "      <td>6333</td>\n",
              "      <td>244</td>\n",
              "      <td>11/1/2003</td>\n",
              "      <td>Scholastic</td>\n",
              "    </tr>\n",
              "    <tr>\n",
              "      <th>3</th>\n",
              "      <td>5</td>\n",
              "      <td>Harry Potter and the Prisoner of Azkaban (Harr...</td>\n",
              "      <td>J.K. Rowling/Mary GrandPré</td>\n",
              "      <td>4.56</td>\n",
              "      <td>043965548X</td>\n",
              "      <td>9780439655484</td>\n",
              "      <td>eng</td>\n",
              "      <td>435</td>\n",
              "      <td>2339585</td>\n",
              "      <td>36325</td>\n",
              "      <td>5/1/2004</td>\n",
              "      <td>Scholastic Inc.</td>\n",
              "    </tr>\n",
              "    <tr>\n",
              "      <th>4</th>\n",
              "      <td>8</td>\n",
              "      <td>Harry Potter Boxed Set  Books 1-5 (Harry Potte...</td>\n",
              "      <td>J.K. Rowling/Mary GrandPré</td>\n",
              "      <td>4.78</td>\n",
              "      <td>0439682584</td>\n",
              "      <td>9780439682589</td>\n",
              "      <td>eng</td>\n",
              "      <td>2690</td>\n",
              "      <td>41428</td>\n",
              "      <td>164</td>\n",
              "      <td>9/13/2004</td>\n",
              "      <td>Scholastic</td>\n",
              "    </tr>\n",
              "    <tr>\n",
              "      <th>...</th>\n",
              "      <td>...</td>\n",
              "      <td>...</td>\n",
              "      <td>...</td>\n",
              "      <td>...</td>\n",
              "      <td>...</td>\n",
              "      <td>...</td>\n",
              "      <td>...</td>\n",
              "      <td>...</td>\n",
              "      <td>...</td>\n",
              "      <td>...</td>\n",
              "      <td>...</td>\n",
              "      <td>...</td>\n",
              "    </tr>\n",
              "    <tr>\n",
              "      <th>11118</th>\n",
              "      <td>45631</td>\n",
              "      <td>Expelled from Eden: A William T. Vollmann Reader</td>\n",
              "      <td>William T. Vollmann/Larry McCaffery/Michael He...</td>\n",
              "      <td>4.06</td>\n",
              "      <td>1560254416</td>\n",
              "      <td>9781560254416</td>\n",
              "      <td>eng</td>\n",
              "      <td>512</td>\n",
              "      <td>156</td>\n",
              "      <td>20</td>\n",
              "      <td>12/21/2004</td>\n",
              "      <td>Da Capo Press</td>\n",
              "    </tr>\n",
              "    <tr>\n",
              "      <th>11119</th>\n",
              "      <td>45633</td>\n",
              "      <td>You Bright and Risen Angels</td>\n",
              "      <td>William T. Vollmann</td>\n",
              "      <td>4.08</td>\n",
              "      <td>0140110879</td>\n",
              "      <td>9780140110876</td>\n",
              "      <td>eng</td>\n",
              "      <td>635</td>\n",
              "      <td>783</td>\n",
              "      <td>56</td>\n",
              "      <td>12/1/1988</td>\n",
              "      <td>Penguin Books</td>\n",
              "    </tr>\n",
              "    <tr>\n",
              "      <th>11120</th>\n",
              "      <td>45634</td>\n",
              "      <td>The Ice-Shirt (Seven Dreams #1)</td>\n",
              "      <td>William T. Vollmann</td>\n",
              "      <td>3.96</td>\n",
              "      <td>0140131965</td>\n",
              "      <td>9780140131963</td>\n",
              "      <td>eng</td>\n",
              "      <td>415</td>\n",
              "      <td>820</td>\n",
              "      <td>95</td>\n",
              "      <td>8/1/1993</td>\n",
              "      <td>Penguin Books</td>\n",
              "    </tr>\n",
              "    <tr>\n",
              "      <th>11121</th>\n",
              "      <td>45639</td>\n",
              "      <td>Poor People</td>\n",
              "      <td>William T. Vollmann</td>\n",
              "      <td>3.72</td>\n",
              "      <td>0060878827</td>\n",
              "      <td>9780060878825</td>\n",
              "      <td>eng</td>\n",
              "      <td>434</td>\n",
              "      <td>769</td>\n",
              "      <td>139</td>\n",
              "      <td>2/27/2007</td>\n",
              "      <td>Ecco</td>\n",
              "    </tr>\n",
              "    <tr>\n",
              "      <th>11122</th>\n",
              "      <td>45641</td>\n",
              "      <td>Las aventuras de Tom Sawyer</td>\n",
              "      <td>Mark Twain</td>\n",
              "      <td>3.91</td>\n",
              "      <td>8497646983</td>\n",
              "      <td>9788497646987</td>\n",
              "      <td>spa</td>\n",
              "      <td>272</td>\n",
              "      <td>113</td>\n",
              "      <td>12</td>\n",
              "      <td>5/28/2006</td>\n",
              "      <td>Edimat Libros</td>\n",
              "    </tr>\n",
              "  </tbody>\n",
              "</table>\n",
              "<p>11123 rows × 12 columns</p>\n",
              "</div>\n",
              "      <button class=\"colab-df-convert\" onclick=\"convertToInteractive('df-275bbfb9-b29a-488c-9089-aa26f78cdc14')\"\n",
              "              title=\"Convert this dataframe to an interactive table.\"\n",
              "              style=\"display:none;\">\n",
              "        \n",
              "  <svg xmlns=\"http://www.w3.org/2000/svg\" height=\"24px\"viewBox=\"0 0 24 24\"\n",
              "       width=\"24px\">\n",
              "    <path d=\"M0 0h24v24H0V0z\" fill=\"none\"/>\n",
              "    <path d=\"M18.56 5.44l.94 2.06.94-2.06 2.06-.94-2.06-.94-.94-2.06-.94 2.06-2.06.94zm-11 1L8.5 8.5l.94-2.06 2.06-.94-2.06-.94L8.5 2.5l-.94 2.06-2.06.94zm10 10l.94 2.06.94-2.06 2.06-.94-2.06-.94-.94-2.06-.94 2.06-2.06.94z\"/><path d=\"M17.41 7.96l-1.37-1.37c-.4-.4-.92-.59-1.43-.59-.52 0-1.04.2-1.43.59L10.3 9.45l-7.72 7.72c-.78.78-.78 2.05 0 2.83L4 21.41c.39.39.9.59 1.41.59.51 0 1.02-.2 1.41-.59l7.78-7.78 2.81-2.81c.8-.78.8-2.07 0-2.86zM5.41 20L4 18.59l7.72-7.72 1.47 1.35L5.41 20z\"/>\n",
              "  </svg>\n",
              "      </button>\n",
              "      \n",
              "  <style>\n",
              "    .colab-df-container {\n",
              "      display:flex;\n",
              "      flex-wrap:wrap;\n",
              "      gap: 12px;\n",
              "    }\n",
              "\n",
              "    .colab-df-convert {\n",
              "      background-color: #E8F0FE;\n",
              "      border: none;\n",
              "      border-radius: 50%;\n",
              "      cursor: pointer;\n",
              "      display: none;\n",
              "      fill: #1967D2;\n",
              "      height: 32px;\n",
              "      padding: 0 0 0 0;\n",
              "      width: 32px;\n",
              "    }\n",
              "\n",
              "    .colab-df-convert:hover {\n",
              "      background-color: #E2EBFA;\n",
              "      box-shadow: 0px 1px 2px rgba(60, 64, 67, 0.3), 0px 1px 3px 1px rgba(60, 64, 67, 0.15);\n",
              "      fill: #174EA6;\n",
              "    }\n",
              "\n",
              "    [theme=dark] .colab-df-convert {\n",
              "      background-color: #3B4455;\n",
              "      fill: #D2E3FC;\n",
              "    }\n",
              "\n",
              "    [theme=dark] .colab-df-convert:hover {\n",
              "      background-color: #434B5C;\n",
              "      box-shadow: 0px 1px 3px 1px rgba(0, 0, 0, 0.15);\n",
              "      filter: drop-shadow(0px 1px 2px rgba(0, 0, 0, 0.3));\n",
              "      fill: #FFFFFF;\n",
              "    }\n",
              "  </style>\n",
              "\n",
              "      <script>\n",
              "        const buttonEl =\n",
              "          document.querySelector('#df-275bbfb9-b29a-488c-9089-aa26f78cdc14 button.colab-df-convert');\n",
              "        buttonEl.style.display =\n",
              "          google.colab.kernel.accessAllowed ? 'block' : 'none';\n",
              "\n",
              "        async function convertToInteractive(key) {\n",
              "          const element = document.querySelector('#df-275bbfb9-b29a-488c-9089-aa26f78cdc14');\n",
              "          const dataTable =\n",
              "            await google.colab.kernel.invokeFunction('convertToInteractive',\n",
              "                                                     [key], {});\n",
              "          if (!dataTable) return;\n",
              "\n",
              "          const docLinkHtml = 'Like what you see? Visit the ' +\n",
              "            '<a target=\"_blank\" href=https://colab.research.google.com/notebooks/data_table.ipynb>data table notebook</a>'\n",
              "            + ' to learn more about interactive tables.';\n",
              "          element.innerHTML = '';\n",
              "          dataTable['output_type'] = 'display_data';\n",
              "          await google.colab.output.renderOutput(dataTable, element);\n",
              "          const docLink = document.createElement('div');\n",
              "          docLink.innerHTML = docLinkHtml;\n",
              "          element.appendChild(docLink);\n",
              "        }\n",
              "      </script>\n",
              "    </div>\n",
              "  </div>\n",
              "  "
            ],
            "text/plain": [
              "       bookID                                              title  \\\n",
              "0           1  Harry Potter and the Half-Blood Prince (Harry ...   \n",
              "1           2  Harry Potter and the Order of the Phoenix (Har...   \n",
              "2           4  Harry Potter and the Chamber of Secrets (Harry...   \n",
              "3           5  Harry Potter and the Prisoner of Azkaban (Harr...   \n",
              "4           8  Harry Potter Boxed Set  Books 1-5 (Harry Potte...   \n",
              "...       ...                                                ...   \n",
              "11118   45631   Expelled from Eden: A William T. Vollmann Reader   \n",
              "11119   45633                        You Bright and Risen Angels   \n",
              "11120   45634                    The Ice-Shirt (Seven Dreams #1)   \n",
              "11121   45639                                        Poor People   \n",
              "11122   45641                        Las aventuras de Tom Sawyer   \n",
              "\n",
              "                                                 authors  average_rating  \\\n",
              "0                             J.K. Rowling/Mary GrandPré            4.57   \n",
              "1                             J.K. Rowling/Mary GrandPré            4.49   \n",
              "2                                           J.K. Rowling            4.42   \n",
              "3                             J.K. Rowling/Mary GrandPré            4.56   \n",
              "4                             J.K. Rowling/Mary GrandPré            4.78   \n",
              "...                                                  ...             ...   \n",
              "11118  William T. Vollmann/Larry McCaffery/Michael He...            4.06   \n",
              "11119                                William T. Vollmann            4.08   \n",
              "11120                                William T. Vollmann            3.96   \n",
              "11121                                William T. Vollmann            3.72   \n",
              "11122                                         Mark Twain            3.91   \n",
              "\n",
              "             isbn         isbn13 language_code    num_pages  ratings_count  \\\n",
              "0      0439785960  9780439785969           eng          652        2095690   \n",
              "1      0439358078  9780439358071           eng          870        2153167   \n",
              "2      0439554896  9780439554893           eng          352           6333   \n",
              "3      043965548X  9780439655484           eng          435        2339585   \n",
              "4      0439682584  9780439682589           eng         2690          41428   \n",
              "...           ...            ...           ...          ...            ...   \n",
              "11118  1560254416  9781560254416           eng          512            156   \n",
              "11119  0140110879  9780140110876           eng          635            783   \n",
              "11120  0140131965  9780140131963           eng          415            820   \n",
              "11121  0060878827  9780060878825           eng          434            769   \n",
              "11122  8497646983  9788497646987           spa          272            113   \n",
              "\n",
              "       text_reviews_count publication_date        publisher  \n",
              "0                   27591        9/16/2006  Scholastic Inc.  \n",
              "1                   29221         9/1/2004  Scholastic Inc.  \n",
              "2                     244        11/1/2003       Scholastic  \n",
              "3                   36325         5/1/2004  Scholastic Inc.  \n",
              "4                     164        9/13/2004       Scholastic  \n",
              "...                   ...              ...              ...  \n",
              "11118                  20       12/21/2004    Da Capo Press  \n",
              "11119                  56        12/1/1988    Penguin Books  \n",
              "11120                  95         8/1/1993    Penguin Books  \n",
              "11121                 139        2/27/2007             Ecco  \n",
              "11122                  12        5/28/2006    Edimat Libros  \n",
              "\n",
              "[11123 rows x 12 columns]"
            ]
          },
          "execution_count": 4,
          "metadata": {},
          "output_type": "execute_result"
        }
      ],
      "source": [
        "books = pd.read_csv('books.csv', error_bad_lines=False, warn_bad_lines=False)\n",
        "books"
      ]
    },
    {
      "cell_type": "markdown",
      "metadata": {
        "id": "vNIMUggwqQO9"
      },
      "source": [
        "Dari output di atas kita mempunyai 11123 data dengan 12 kolom pada Goodreads-books dataset. Berdasarkan informasi dari Kaggle, variabel-variabel pada Goodreads-books dataset adalah sebagai berikut:  \n",
        "- bookID : kode unik dari setiap buku.\n",
        "- title : nama atau judul dari buku.\n",
        "- authors : nama dari penulis buku.\n",
        "- average_rating : rata-rata penilaian dari setiap buku.\n",
        "- isbn : kode unik buku yang merujuk pada ISBN (International Standard Book Number).\n",
        "- isbn13 : 13-digit ISBN untuk mengidentifikasi buku.\n",
        "- language_code : kode bahasa dari buku, misalnya 'eng' untuk English.\n",
        "- num_pages : jumlah halaman dari buku.\n",
        "- ratings_count : total penilaian yang didapatkan dari suatu buku.\n",
        "- text_reviews_count : total teks review yang diperoleh oleh suatu buku.\n",
        "- publication_date : tanggal buku dirilis ke publik.\n",
        "- publisher : nama penerbit yang menerbitkan buku."
      ]
    },
    {
      "cell_type": "code",
      "execution_count": 5,
      "metadata": {
        "colab": {
          "base_uri": "https://localhost:8080/"
        },
        "id": "Z_khqpGfqQO9",
        "outputId": "33204790-1246-4b54-f281-50d02a090cf4"
      },
      "outputs": [
        {
          "name": "stdout",
          "output_type": "stream",
          "text": [
            "<class 'pandas.core.frame.DataFrame'>\n",
            "RangeIndex: 11123 entries, 0 to 11122\n",
            "Data columns (total 12 columns):\n",
            " #   Column              Non-Null Count  Dtype  \n",
            "---  ------              --------------  -----  \n",
            " 0   bookID              11123 non-null  int64  \n",
            " 1   title               11123 non-null  object \n",
            " 2   authors             11123 non-null  object \n",
            " 3   average_rating      11123 non-null  float64\n",
            " 4   isbn                11123 non-null  object \n",
            " 5   isbn13              11123 non-null  int64  \n",
            " 6   language_code       11123 non-null  object \n",
            " 7     num_pages         11123 non-null  int64  \n",
            " 8   ratings_count       11123 non-null  int64  \n",
            " 9   text_reviews_count  11123 non-null  int64  \n",
            " 10  publication_date    11123 non-null  object \n",
            " 11  publisher           11123 non-null  object \n",
            "dtypes: float64(1), int64(5), object(6)\n",
            "memory usage: 1.0+ MB\n"
          ]
        }
      ],
      "source": [
        "books.info()"
      ]
    },
    {
      "cell_type": "markdown",
      "metadata": {
        "id": "EJIwHacxqQO-"
      },
      "source": [
        "Dari output di atas dapat dilihat bahwa:\n",
        "\n",
        "- Terdapat 6 kolom dengan tipe object, yaitu: title, authors, isbn, language_code, publication_date, publisher.\n",
        "- Terdapat 5 kolom numerik dengan tipe int64, yaitu: bookID, isbn13, num_pages, ratings_count, text_review_count.\n",
        "- Terdapat 1 kolom numerik dengan tipe float64, yaitu: average_rating."
      ]
    },
    {
      "cell_type": "code",
      "execution_count": 6,
      "metadata": {
        "colab": {
          "base_uri": "https://localhost:8080/"
        },
        "id": "Mr7S1sxcqQO-",
        "outputId": "8b6ead19-6c2d-497b-c598-47ab87fa64f1"
      },
      "outputs": [
        {
          "data": {
            "text/plain": [
              "['bookID',\n",
              " 'title',\n",
              " 'authors',\n",
              " 'average_rating',\n",
              " 'isbn',\n",
              " 'isbn13',\n",
              " 'language_code',\n",
              " '  num_pages',\n",
              " 'ratings_count',\n",
              " 'text_reviews_count',\n",
              " 'publication_date',\n",
              " 'publisher']"
            ]
          },
          "execution_count": 6,
          "metadata": {},
          "output_type": "execute_result"
        }
      ],
      "source": [
        "list(books)"
      ]
    },
    {
      "cell_type": "markdown",
      "metadata": {
        "id": "Fa-PhSR-qQO_"
      },
      "source": [
        "Dapat dilihat pada output di atas bahwa ada variabel yang penulisannya memiliki spasi di awal yaitu num_pages. Oleh karena itu kita perlu memperbaikinya agar lebih mudah untuk diakses nanti."
      ]
    },
    {
      "cell_type": "code",
      "execution_count": 7,
      "metadata": {
        "colab": {
          "base_uri": "https://localhost:8080/"
        },
        "id": "QKCTA078qQO_",
        "outputId": "2c30628a-23ac-4590-e840-4679fc028cb1"
      },
      "outputs": [
        {
          "data": {
            "text/plain": [
              "['bookID',\n",
              " 'title',\n",
              " 'authors',\n",
              " 'average_rating',\n",
              " 'isbn',\n",
              " 'isbn13',\n",
              " 'language_code',\n",
              " 'num_pages',\n",
              " 'ratings_count',\n",
              " 'text_reviews_count',\n",
              " 'publication_date',\n",
              " 'publisher']"
            ]
          },
          "execution_count": 7,
          "metadata": {},
          "output_type": "execute_result"
        }
      ],
      "source": [
        "# menghapus spasi pada variabel num_pages agar memudahkan pengaksesan variabel nanti\n",
        "\n",
        "books.columns = books.columns.str.strip()\n",
        "list(books)"
      ]
    },
    {
      "cell_type": "code",
      "execution_count": 8,
      "metadata": {
        "colab": {
          "base_uri": "https://localhost:8080/",
          "height": 300
        },
        "id": "ikazkt3iqQPA",
        "outputId": "d9545464-2cf6-4ea1-9558-0500107a706b"
      },
      "outputs": [
        {
          "data": {
            "text/html": [
              "\n",
              "  <div id=\"df-1e694999-d85e-4672-9506-43a58f67a371\">\n",
              "    <div class=\"colab-df-container\">\n",
              "      <div>\n",
              "<style scoped>\n",
              "    .dataframe tbody tr th:only-of-type {\n",
              "        vertical-align: middle;\n",
              "    }\n",
              "\n",
              "    .dataframe tbody tr th {\n",
              "        vertical-align: top;\n",
              "    }\n",
              "\n",
              "    .dataframe thead th {\n",
              "        text-align: right;\n",
              "    }\n",
              "</style>\n",
              "<table border=\"1\" class=\"dataframe\">\n",
              "  <thead>\n",
              "    <tr style=\"text-align: right;\">\n",
              "      <th></th>\n",
              "      <th>bookID</th>\n",
              "      <th>average_rating</th>\n",
              "      <th>isbn13</th>\n",
              "      <th>num_pages</th>\n",
              "      <th>ratings_count</th>\n",
              "      <th>text_reviews_count</th>\n",
              "    </tr>\n",
              "  </thead>\n",
              "  <tbody>\n",
              "    <tr>\n",
              "      <th>count</th>\n",
              "      <td>11123.000000</td>\n",
              "      <td>11123.000000</td>\n",
              "      <td>1.112300e+04</td>\n",
              "      <td>11123.000000</td>\n",
              "      <td>1.112300e+04</td>\n",
              "      <td>11123.000000</td>\n",
              "    </tr>\n",
              "    <tr>\n",
              "      <th>mean</th>\n",
              "      <td>21310.856963</td>\n",
              "      <td>3.934075</td>\n",
              "      <td>9.759880e+12</td>\n",
              "      <td>336.405556</td>\n",
              "      <td>1.794285e+04</td>\n",
              "      <td>542.048099</td>\n",
              "    </tr>\n",
              "    <tr>\n",
              "      <th>std</th>\n",
              "      <td>13094.727252</td>\n",
              "      <td>0.350485</td>\n",
              "      <td>4.429758e+11</td>\n",
              "      <td>241.152626</td>\n",
              "      <td>1.124992e+05</td>\n",
              "      <td>2576.619589</td>\n",
              "    </tr>\n",
              "    <tr>\n",
              "      <th>min</th>\n",
              "      <td>1.000000</td>\n",
              "      <td>0.000000</td>\n",
              "      <td>8.987060e+09</td>\n",
              "      <td>0.000000</td>\n",
              "      <td>0.000000e+00</td>\n",
              "      <td>0.000000</td>\n",
              "    </tr>\n",
              "    <tr>\n",
              "      <th>25%</th>\n",
              "      <td>10277.500000</td>\n",
              "      <td>3.770000</td>\n",
              "      <td>9.780345e+12</td>\n",
              "      <td>192.000000</td>\n",
              "      <td>1.040000e+02</td>\n",
              "      <td>9.000000</td>\n",
              "    </tr>\n",
              "    <tr>\n",
              "      <th>50%</th>\n",
              "      <td>20287.000000</td>\n",
              "      <td>3.960000</td>\n",
              "      <td>9.780582e+12</td>\n",
              "      <td>299.000000</td>\n",
              "      <td>7.450000e+02</td>\n",
              "      <td>47.000000</td>\n",
              "    </tr>\n",
              "    <tr>\n",
              "      <th>75%</th>\n",
              "      <td>32104.500000</td>\n",
              "      <td>4.140000</td>\n",
              "      <td>9.780872e+12</td>\n",
              "      <td>416.000000</td>\n",
              "      <td>5.000500e+03</td>\n",
              "      <td>238.000000</td>\n",
              "    </tr>\n",
              "    <tr>\n",
              "      <th>max</th>\n",
              "      <td>45641.000000</td>\n",
              "      <td>5.000000</td>\n",
              "      <td>9.790008e+12</td>\n",
              "      <td>6576.000000</td>\n",
              "      <td>4.597666e+06</td>\n",
              "      <td>94265.000000</td>\n",
              "    </tr>\n",
              "  </tbody>\n",
              "</table>\n",
              "</div>\n",
              "      <button class=\"colab-df-convert\" onclick=\"convertToInteractive('df-1e694999-d85e-4672-9506-43a58f67a371')\"\n",
              "              title=\"Convert this dataframe to an interactive table.\"\n",
              "              style=\"display:none;\">\n",
              "        \n",
              "  <svg xmlns=\"http://www.w3.org/2000/svg\" height=\"24px\"viewBox=\"0 0 24 24\"\n",
              "       width=\"24px\">\n",
              "    <path d=\"M0 0h24v24H0V0z\" fill=\"none\"/>\n",
              "    <path d=\"M18.56 5.44l.94 2.06.94-2.06 2.06-.94-2.06-.94-.94-2.06-.94 2.06-2.06.94zm-11 1L8.5 8.5l.94-2.06 2.06-.94-2.06-.94L8.5 2.5l-.94 2.06-2.06.94zm10 10l.94 2.06.94-2.06 2.06-.94-2.06-.94-.94-2.06-.94 2.06-2.06.94z\"/><path d=\"M17.41 7.96l-1.37-1.37c-.4-.4-.92-.59-1.43-.59-.52 0-1.04.2-1.43.59L10.3 9.45l-7.72 7.72c-.78.78-.78 2.05 0 2.83L4 21.41c.39.39.9.59 1.41.59.51 0 1.02-.2 1.41-.59l7.78-7.78 2.81-2.81c.8-.78.8-2.07 0-2.86zM5.41 20L4 18.59l7.72-7.72 1.47 1.35L5.41 20z\"/>\n",
              "  </svg>\n",
              "      </button>\n",
              "      \n",
              "  <style>\n",
              "    .colab-df-container {\n",
              "      display:flex;\n",
              "      flex-wrap:wrap;\n",
              "      gap: 12px;\n",
              "    }\n",
              "\n",
              "    .colab-df-convert {\n",
              "      background-color: #E8F0FE;\n",
              "      border: none;\n",
              "      border-radius: 50%;\n",
              "      cursor: pointer;\n",
              "      display: none;\n",
              "      fill: #1967D2;\n",
              "      height: 32px;\n",
              "      padding: 0 0 0 0;\n",
              "      width: 32px;\n",
              "    }\n",
              "\n",
              "    .colab-df-convert:hover {\n",
              "      background-color: #E2EBFA;\n",
              "      box-shadow: 0px 1px 2px rgba(60, 64, 67, 0.3), 0px 1px 3px 1px rgba(60, 64, 67, 0.15);\n",
              "      fill: #174EA6;\n",
              "    }\n",
              "\n",
              "    [theme=dark] .colab-df-convert {\n",
              "      background-color: #3B4455;\n",
              "      fill: #D2E3FC;\n",
              "    }\n",
              "\n",
              "    [theme=dark] .colab-df-convert:hover {\n",
              "      background-color: #434B5C;\n",
              "      box-shadow: 0px 1px 3px 1px rgba(0, 0, 0, 0.15);\n",
              "      filter: drop-shadow(0px 1px 2px rgba(0, 0, 0, 0.3));\n",
              "      fill: #FFFFFF;\n",
              "    }\n",
              "  </style>\n",
              "\n",
              "      <script>\n",
              "        const buttonEl =\n",
              "          document.querySelector('#df-1e694999-d85e-4672-9506-43a58f67a371 button.colab-df-convert');\n",
              "        buttonEl.style.display =\n",
              "          google.colab.kernel.accessAllowed ? 'block' : 'none';\n",
              "\n",
              "        async function convertToInteractive(key) {\n",
              "          const element = document.querySelector('#df-1e694999-d85e-4672-9506-43a58f67a371');\n",
              "          const dataTable =\n",
              "            await google.colab.kernel.invokeFunction('convertToInteractive',\n",
              "                                                     [key], {});\n",
              "          if (!dataTable) return;\n",
              "\n",
              "          const docLinkHtml = 'Like what you see? Visit the ' +\n",
              "            '<a target=\"_blank\" href=https://colab.research.google.com/notebooks/data_table.ipynb>data table notebook</a>'\n",
              "            + ' to learn more about interactive tables.';\n",
              "          element.innerHTML = '';\n",
              "          dataTable['output_type'] = 'display_data';\n",
              "          await google.colab.output.renderOutput(dataTable, element);\n",
              "          const docLink = document.createElement('div');\n",
              "          docLink.innerHTML = docLinkHtml;\n",
              "          element.appendChild(docLink);\n",
              "        }\n",
              "      </script>\n",
              "    </div>\n",
              "  </div>\n",
              "  "
            ],
            "text/plain": [
              "             bookID  average_rating        isbn13     num_pages  \\\n",
              "count  11123.000000    11123.000000  1.112300e+04  11123.000000   \n",
              "mean   21310.856963        3.934075  9.759880e+12    336.405556   \n",
              "std    13094.727252        0.350485  4.429758e+11    241.152626   \n",
              "min        1.000000        0.000000  8.987060e+09      0.000000   \n",
              "25%    10277.500000        3.770000  9.780345e+12    192.000000   \n",
              "50%    20287.000000        3.960000  9.780582e+12    299.000000   \n",
              "75%    32104.500000        4.140000  9.780872e+12    416.000000   \n",
              "max    45641.000000        5.000000  9.790008e+12   6576.000000   \n",
              "\n",
              "       ratings_count  text_reviews_count  \n",
              "count   1.112300e+04        11123.000000  \n",
              "mean    1.794285e+04          542.048099  \n",
              "std     1.124992e+05         2576.619589  \n",
              "min     0.000000e+00            0.000000  \n",
              "25%     1.040000e+02            9.000000  \n",
              "50%     7.450000e+02           47.000000  \n",
              "75%     5.000500e+03          238.000000  \n",
              "max     4.597666e+06        94265.000000  "
            ]
          },
          "execution_count": 8,
          "metadata": {},
          "output_type": "execute_result"
        }
      ],
      "source": [
        "books.describe()"
      ]
    },
    {
      "cell_type": "markdown",
      "metadata": {
        "id": "-Raq6JxjqQPA"
      },
      "source": [
        "Fungsi describe() memberikan informasi statistik pada masing-masing kolom, antara lain:\n",
        "\n",
        "- Count adalah jumlah sampel pada data.\n",
        "- Mean adalah nilai rata-rata.\n",
        "- Std adalah standar deviasi.\n",
        "- Min yaitu nilai minimum setiap kolom.\n",
        "- 25% adalah kuartil pertama. Kuartil adalah nilai yang menandai batas interval - dalam empat bagian sebaran yang sama.\n",
        "- 50% adalah kuartil kedua, atau biasa juga disebut median (nilai tengah).\n",
        "- 75% adalah kuartil ketiga.\n",
        "- Max adalah nilai maksimum."
      ]
    },
    {
      "cell_type": "markdown",
      "metadata": {
        "id": "ievjEUIbqQPA"
      },
      "source": [
        "## Data Cleaning\n",
        "Pada tahap ini, kita akan melakukan pembersihan pada data yaitu dengan menghapus data duplikat (jika ada), melihat data yang bernilai kosong, serta memperbaiki isi pada beberapa kolom agar lebih mudah membaca datanya."
      ]
    },
    {
      "cell_type": "markdown",
      "metadata": {
        "id": "FI0PCX9_qQPB"
      },
      "source": [
        "### Checking Null Value\n",
        "Pada tahap ini kita perlu memastikan apakah ada data dengan nilai kosong pada dataset kita karena akan memiliki pengaruh pada proses pembuatan model rekomendasi nanti jika data kita memiliki informasi yang kurang."
      ]
    },
    {
      "cell_type": "code",
      "execution_count": 9,
      "metadata": {
        "colab": {
          "base_uri": "https://localhost:8080/"
        },
        "id": "Ome-H1yGqQPB",
        "outputId": "cf5d211b-fb07-4284-af76-375b15680648"
      },
      "outputs": [
        {
          "data": {
            "text/plain": [
              "bookID                0\n",
              "title                 0\n",
              "authors               0\n",
              "average_rating        0\n",
              "isbn                  0\n",
              "isbn13                0\n",
              "language_code         0\n",
              "num_pages             0\n",
              "ratings_count         0\n",
              "text_reviews_count    0\n",
              "publication_date      0\n",
              "publisher             0\n",
              "dtype: int64"
            ]
          },
          "execution_count": 9,
          "metadata": {},
          "output_type": "execute_result"
        }
      ],
      "source": [
        "# melihat apakah ada data yang memiliki nilai kosong\n",
        "\n",
        "books.isnull().sum()"
      ]
    },
    {
      "cell_type": "markdown",
      "metadata": {
        "id": "GCgO9btlqQPB"
      },
      "source": [
        "Dari output di atas kita dapat melihat bahwa seluruh kolom pada dataset kita tidak memiliki nilai kosong atau null value."
      ]
    },
    {
      "cell_type": "markdown",
      "metadata": {
        "id": "5kpYzL2XqQPB"
      },
      "source": [
        "### Checking Duplicated Data\n",
        "Pada tahap ini kita akan memeriksa apakah ada data duplikat pada dataset yang kita gunakan. Jika ada maka kita perlu untuk menghapusnya agar tidak boros informasi serta mengurangi kemungkinan overfitting."
      ]
    },
    {
      "cell_type": "code",
      "execution_count": 10,
      "metadata": {
        "colab": {
          "base_uri": "https://localhost:8080/"
        },
        "id": "vTN6zgfyqQPB",
        "outputId": "3c573cdf-f088-4657-bf43-2e1a67070baa"
      },
      "outputs": [
        {
          "data": {
            "text/plain": [
              "0"
            ]
          },
          "execution_count": 10,
          "metadata": {},
          "output_type": "execute_result"
        }
      ],
      "source": [
        "books.duplicated().sum()"
      ]
    },
    {
      "cell_type": "markdown",
      "metadata": {
        "id": "vWKXHrOkqQPC"
      },
      "source": [
        "Tidak ada data duplikat di dalam dataset."
      ]
    },
    {
      "cell_type": "markdown",
      "metadata": {
        "id": "59sHB2tSqQPC"
      },
      "source": [
        "### Fixing the Data\n",
        "Pada tahap ini kita perlu mengubah isi pada kolom language_code agar memudahkan kita untuk mengetahui bahasa yang digunakan pada suatu buku. Kemudian kita akan menambahkan satu kolom baru di dataset kita yaitu publication_year yang berisi tentang informasi terkait tahun terbit dari suatu buku."
      ]
    },
    {
      "cell_type": "code",
      "execution_count": 11,
      "metadata": {
        "colab": {
          "base_uri": "https://localhost:8080/"
        },
        "id": "5Us1B-lnqQPC",
        "outputId": "529d647b-c0a5-4942-d003-1b1439275544"
      },
      "outputs": [
        {
          "data": {
            "text/plain": [
              "array(['eng', 'en-US', 'fre', 'spa', 'en-GB', 'mul', 'grc', 'enm',\n",
              "       'en-CA', 'ger', 'jpn', 'ara', 'nl', 'zho', 'lat', 'por', 'srp',\n",
              "       'ita', 'rus', 'msa', 'glg', 'wel', 'swe', 'nor', 'tur', 'gla',\n",
              "       'ale'], dtype=object)"
            ]
          },
          "execution_count": 11,
          "metadata": {},
          "output_type": "execute_result"
        }
      ],
      "source": [
        "books.language_code.unique()"
      ]
    },
    {
      "cell_type": "markdown",
      "metadata": {
        "id": "ra6oyN62qQPC"
      },
      "source": [
        "Dari output di atas dapat dilihat bahwa akan sulit untuk mengetahui bahasa dari suatu buku apabila bentuk datanya seperti di atas. Oleh karena itu kita akan mengubahnya agar menjadi lebih mudah dibaca."
      ]
    },
    {
      "cell_type": "code",
      "execution_count": 12,
      "metadata": {
        "colab": {
          "base_uri": "https://localhost:8080/"
        },
        "id": "WPIPOUnWqQPC",
        "outputId": "68b04789-b06b-4603-8632-e8d6031541a4"
      },
      "outputs": [
        {
          "data": {
            "text/plain": [
              "array(['English', 'US-English', 'French', 'Spanish', 'British-English',\n",
              "       'Multiple language', 'Greek', 'Middle English', 'Canada-English',\n",
              "       'German', 'Japanese', 'Arabic', 'Dutch', 'Chinese', 'Latvian',\n",
              "       'Portuguese', 'Serbian', 'Initial Teaching language', 'Russian',\n",
              "       'Modern Standard Arabic', 'Galician', 'Welsh', 'Swedish', 'Murik',\n",
              "       'Turkish', 'Gaelic', 'Afro-Asiatic'], dtype=object)"
            ]
          },
          "execution_count": 12,
          "metadata": {},
          "output_type": "execute_result"
        }
      ],
      "source": [
        "books.language_code.replace(\n",
        "    to_replace=[\n",
        "        \"eng\",\n",
        "        \"en-US\",\n",
        "        \"fre\",\n",
        "        \"spa\",\n",
        "        \"en-GB\",\n",
        "        \"mul\",\n",
        "        \"grc\",\n",
        "        \"enm\",\n",
        "        \"en-CA\",\n",
        "        \"ger\",\n",
        "        \"jpn\",\n",
        "        \"ara\",\n",
        "        \"nl\",\n",
        "        \"zho\",\n",
        "        \"lat\",\n",
        "        \"por\",\n",
        "        \"srp\",\n",
        "        \"ita\",\n",
        "        \"rus\",\n",
        "        \"msa\",\n",
        "        \"glg\",\n",
        "        \"wel\",\n",
        "        \"swe\",\n",
        "        \"nor\",\n",
        "        \"tur\",\n",
        "        \"gla\",\n",
        "        \"ale\",\n",
        "    ],\n",
        "    value=[\n",
        "        \"English\",\n",
        "        \"US-English\",\n",
        "        \"French\",\n",
        "        \"Spanish\",\n",
        "        \"British-English\",\n",
        "        \"Multiple language\",\n",
        "        \"Greek\",\n",
        "        \"Middle English\",\n",
        "        \"Canada-English\",\n",
        "        \"German\",\n",
        "        \"Japanese\",\n",
        "        \"Arabic\",\n",
        "        \"Dutch\",\n",
        "        \"Chinese\",\n",
        "        \"Latvian\",\n",
        "        \"Portuguese\",\n",
        "        \"Serbian\",\n",
        "        \"Initial Teaching language\",\n",
        "        \"Russian\",\n",
        "        \"Modern Standard Arabic\",\n",
        "        \"Galician\",\n",
        "        \"Welsh\",\n",
        "        \"Swedish\",\n",
        "        \"Murik\",\n",
        "        \"Turkish\",\n",
        "        \"Gaelic\",\n",
        "        \"Afro-Asiatic\",\n",
        "    ],\n",
        "    inplace=True,\n",
        ")\n",
        "books.language_code.unique()"
      ]
    },
    {
      "cell_type": "markdown",
      "metadata": {
        "id": "Z9SI7WLBqQPD"
      },
      "source": [
        "Data pada kolom language_code sekarang menjadi lebih mudah dibaca. Selanjutnya kita akan mengubah nama kolom language_code menjadi language saja karena sudah bukan berbentuk kode lagi."
      ]
    },
    {
      "cell_type": "code",
      "execution_count": 13,
      "metadata": {
        "id": "WbLirYNeqQPD"
      },
      "outputs": [],
      "source": [
        "books = books.rename(columns={'language_code':'language'})"
      ]
    },
    {
      "cell_type": "markdown",
      "metadata": {
        "id": "SdVtM5p4qQPD"
      },
      "source": [
        "Selanjutnya kita akan menambahkan kolom dengan nama publication_year yang berisi tentang informasi terkait tahun terbit dari suatu buku."
      ]
    },
    {
      "cell_type": "code",
      "execution_count": 14,
      "metadata": {
        "id": "dg0FPB_BqQPD"
      },
      "outputs": [],
      "source": [
        "books['publication_year'] = books['publication_date'].apply(lambda x: (int)(str(x[-4:])))"
      ]
    },
    {
      "cell_type": "code",
      "execution_count": 15,
      "metadata": {
        "colab": {
          "base_uri": "https://localhost:8080/",
          "height": 545
        },
        "id": "qw0J3fUwqQPD",
        "outputId": "e6fbfa4a-1b83-4a85-c910-8f230aac3518"
      },
      "outputs": [
        {
          "data": {
            "text/html": [
              "\n",
              "  <div id=\"df-788f82b9-86e7-451b-aeae-db3e05a3f834\">\n",
              "    <div class=\"colab-df-container\">\n",
              "      <div>\n",
              "<style scoped>\n",
              "    .dataframe tbody tr th:only-of-type {\n",
              "        vertical-align: middle;\n",
              "    }\n",
              "\n",
              "    .dataframe tbody tr th {\n",
              "        vertical-align: top;\n",
              "    }\n",
              "\n",
              "    .dataframe thead th {\n",
              "        text-align: right;\n",
              "    }\n",
              "</style>\n",
              "<table border=\"1\" class=\"dataframe\">\n",
              "  <thead>\n",
              "    <tr style=\"text-align: right;\">\n",
              "      <th></th>\n",
              "      <th>bookID</th>\n",
              "      <th>title</th>\n",
              "      <th>authors</th>\n",
              "      <th>average_rating</th>\n",
              "      <th>isbn</th>\n",
              "      <th>isbn13</th>\n",
              "      <th>language</th>\n",
              "      <th>num_pages</th>\n",
              "      <th>ratings_count</th>\n",
              "      <th>text_reviews_count</th>\n",
              "      <th>publication_date</th>\n",
              "      <th>publisher</th>\n",
              "      <th>publication_year</th>\n",
              "    </tr>\n",
              "  </thead>\n",
              "  <tbody>\n",
              "    <tr>\n",
              "      <th>0</th>\n",
              "      <td>1</td>\n",
              "      <td>Harry Potter and the Half-Blood Prince (Harry ...</td>\n",
              "      <td>J.K. Rowling/Mary GrandPré</td>\n",
              "      <td>4.57</td>\n",
              "      <td>0439785960</td>\n",
              "      <td>9780439785969</td>\n",
              "      <td>English</td>\n",
              "      <td>652</td>\n",
              "      <td>2095690</td>\n",
              "      <td>27591</td>\n",
              "      <td>9/16/2006</td>\n",
              "      <td>Scholastic Inc.</td>\n",
              "      <td>2006</td>\n",
              "    </tr>\n",
              "    <tr>\n",
              "      <th>1</th>\n",
              "      <td>2</td>\n",
              "      <td>Harry Potter and the Order of the Phoenix (Har...</td>\n",
              "      <td>J.K. Rowling/Mary GrandPré</td>\n",
              "      <td>4.49</td>\n",
              "      <td>0439358078</td>\n",
              "      <td>9780439358071</td>\n",
              "      <td>English</td>\n",
              "      <td>870</td>\n",
              "      <td>2153167</td>\n",
              "      <td>29221</td>\n",
              "      <td>9/1/2004</td>\n",
              "      <td>Scholastic Inc.</td>\n",
              "      <td>2004</td>\n",
              "    </tr>\n",
              "    <tr>\n",
              "      <th>2</th>\n",
              "      <td>4</td>\n",
              "      <td>Harry Potter and the Chamber of Secrets (Harry...</td>\n",
              "      <td>J.K. Rowling</td>\n",
              "      <td>4.42</td>\n",
              "      <td>0439554896</td>\n",
              "      <td>9780439554893</td>\n",
              "      <td>English</td>\n",
              "      <td>352</td>\n",
              "      <td>6333</td>\n",
              "      <td>244</td>\n",
              "      <td>11/1/2003</td>\n",
              "      <td>Scholastic</td>\n",
              "      <td>2003</td>\n",
              "    </tr>\n",
              "    <tr>\n",
              "      <th>3</th>\n",
              "      <td>5</td>\n",
              "      <td>Harry Potter and the Prisoner of Azkaban (Harr...</td>\n",
              "      <td>J.K. Rowling/Mary GrandPré</td>\n",
              "      <td>4.56</td>\n",
              "      <td>043965548X</td>\n",
              "      <td>9780439655484</td>\n",
              "      <td>English</td>\n",
              "      <td>435</td>\n",
              "      <td>2339585</td>\n",
              "      <td>36325</td>\n",
              "      <td>5/1/2004</td>\n",
              "      <td>Scholastic Inc.</td>\n",
              "      <td>2004</td>\n",
              "    </tr>\n",
              "    <tr>\n",
              "      <th>4</th>\n",
              "      <td>8</td>\n",
              "      <td>Harry Potter Boxed Set  Books 1-5 (Harry Potte...</td>\n",
              "      <td>J.K. Rowling/Mary GrandPré</td>\n",
              "      <td>4.78</td>\n",
              "      <td>0439682584</td>\n",
              "      <td>9780439682589</td>\n",
              "      <td>English</td>\n",
              "      <td>2690</td>\n",
              "      <td>41428</td>\n",
              "      <td>164</td>\n",
              "      <td>9/13/2004</td>\n",
              "      <td>Scholastic</td>\n",
              "      <td>2004</td>\n",
              "    </tr>\n",
              "  </tbody>\n",
              "</table>\n",
              "</div>\n",
              "      <button class=\"colab-df-convert\" onclick=\"convertToInteractive('df-788f82b9-86e7-451b-aeae-db3e05a3f834')\"\n",
              "              title=\"Convert this dataframe to an interactive table.\"\n",
              "              style=\"display:none;\">\n",
              "        \n",
              "  <svg xmlns=\"http://www.w3.org/2000/svg\" height=\"24px\"viewBox=\"0 0 24 24\"\n",
              "       width=\"24px\">\n",
              "    <path d=\"M0 0h24v24H0V0z\" fill=\"none\"/>\n",
              "    <path d=\"M18.56 5.44l.94 2.06.94-2.06 2.06-.94-2.06-.94-.94-2.06-.94 2.06-2.06.94zm-11 1L8.5 8.5l.94-2.06 2.06-.94-2.06-.94L8.5 2.5l-.94 2.06-2.06.94zm10 10l.94 2.06.94-2.06 2.06-.94-2.06-.94-.94-2.06-.94 2.06-2.06.94z\"/><path d=\"M17.41 7.96l-1.37-1.37c-.4-.4-.92-.59-1.43-.59-.52 0-1.04.2-1.43.59L10.3 9.45l-7.72 7.72c-.78.78-.78 2.05 0 2.83L4 21.41c.39.39.9.59 1.41.59.51 0 1.02-.2 1.41-.59l7.78-7.78 2.81-2.81c.8-.78.8-2.07 0-2.86zM5.41 20L4 18.59l7.72-7.72 1.47 1.35L5.41 20z\"/>\n",
              "  </svg>\n",
              "      </button>\n",
              "      \n",
              "  <style>\n",
              "    .colab-df-container {\n",
              "      display:flex;\n",
              "      flex-wrap:wrap;\n",
              "      gap: 12px;\n",
              "    }\n",
              "\n",
              "    .colab-df-convert {\n",
              "      background-color: #E8F0FE;\n",
              "      border: none;\n",
              "      border-radius: 50%;\n",
              "      cursor: pointer;\n",
              "      display: none;\n",
              "      fill: #1967D2;\n",
              "      height: 32px;\n",
              "      padding: 0 0 0 0;\n",
              "      width: 32px;\n",
              "    }\n",
              "\n",
              "    .colab-df-convert:hover {\n",
              "      background-color: #E2EBFA;\n",
              "      box-shadow: 0px 1px 2px rgba(60, 64, 67, 0.3), 0px 1px 3px 1px rgba(60, 64, 67, 0.15);\n",
              "      fill: #174EA6;\n",
              "    }\n",
              "\n",
              "    [theme=dark] .colab-df-convert {\n",
              "      background-color: #3B4455;\n",
              "      fill: #D2E3FC;\n",
              "    }\n",
              "\n",
              "    [theme=dark] .colab-df-convert:hover {\n",
              "      background-color: #434B5C;\n",
              "      box-shadow: 0px 1px 3px 1px rgba(0, 0, 0, 0.15);\n",
              "      filter: drop-shadow(0px 1px 2px rgba(0, 0, 0, 0.3));\n",
              "      fill: #FFFFFF;\n",
              "    }\n",
              "  </style>\n",
              "\n",
              "      <script>\n",
              "        const buttonEl =\n",
              "          document.querySelector('#df-788f82b9-86e7-451b-aeae-db3e05a3f834 button.colab-df-convert');\n",
              "        buttonEl.style.display =\n",
              "          google.colab.kernel.accessAllowed ? 'block' : 'none';\n",
              "\n",
              "        async function convertToInteractive(key) {\n",
              "          const element = document.querySelector('#df-788f82b9-86e7-451b-aeae-db3e05a3f834');\n",
              "          const dataTable =\n",
              "            await google.colab.kernel.invokeFunction('convertToInteractive',\n",
              "                                                     [key], {});\n",
              "          if (!dataTable) return;\n",
              "\n",
              "          const docLinkHtml = 'Like what you see? Visit the ' +\n",
              "            '<a target=\"_blank\" href=https://colab.research.google.com/notebooks/data_table.ipynb>data table notebook</a>'\n",
              "            + ' to learn more about interactive tables.';\n",
              "          element.innerHTML = '';\n",
              "          dataTable['output_type'] = 'display_data';\n",
              "          await google.colab.output.renderOutput(dataTable, element);\n",
              "          const docLink = document.createElement('div');\n",
              "          docLink.innerHTML = docLinkHtml;\n",
              "          element.appendChild(docLink);\n",
              "        }\n",
              "      </script>\n",
              "    </div>\n",
              "  </div>\n",
              "  "
            ],
            "text/plain": [
              "   bookID                                              title  \\\n",
              "0       1  Harry Potter and the Half-Blood Prince (Harry ...   \n",
              "1       2  Harry Potter and the Order of the Phoenix (Har...   \n",
              "2       4  Harry Potter and the Chamber of Secrets (Harry...   \n",
              "3       5  Harry Potter and the Prisoner of Azkaban (Harr...   \n",
              "4       8  Harry Potter Boxed Set  Books 1-5 (Harry Potte...   \n",
              "\n",
              "                      authors  average_rating        isbn         isbn13  \\\n",
              "0  J.K. Rowling/Mary GrandPré            4.57  0439785960  9780439785969   \n",
              "1  J.K. Rowling/Mary GrandPré            4.49  0439358078  9780439358071   \n",
              "2                J.K. Rowling            4.42  0439554896  9780439554893   \n",
              "3  J.K. Rowling/Mary GrandPré            4.56  043965548X  9780439655484   \n",
              "4  J.K. Rowling/Mary GrandPré            4.78  0439682584  9780439682589   \n",
              "\n",
              "  language  num_pages  ratings_count  text_reviews_count publication_date  \\\n",
              "0  English        652        2095690               27591        9/16/2006   \n",
              "1  English        870        2153167               29221         9/1/2004   \n",
              "2  English        352           6333                 244        11/1/2003   \n",
              "3  English        435        2339585               36325         5/1/2004   \n",
              "4  English       2690          41428                 164        9/13/2004   \n",
              "\n",
              "         publisher  publication_year  \n",
              "0  Scholastic Inc.              2006  \n",
              "1  Scholastic Inc.              2004  \n",
              "2       Scholastic              2003  \n",
              "3  Scholastic Inc.              2004  \n",
              "4       Scholastic              2004  "
            ]
          },
          "execution_count": 15,
          "metadata": {},
          "output_type": "execute_result"
        }
      ],
      "source": [
        "books.head()"
      ]
    },
    {
      "cell_type": "markdown",
      "metadata": {
        "id": "xG8ar34DqQPE"
      },
      "source": [
        "Dapat dilihat dari output di atas, dataset sekarang menjadi lebih enak untuk dilihat dan lebih mudah dibaca."
      ]
    },
    {
      "cell_type": "markdown",
      "metadata": {
        "id": "vw7KaLqTqQPE"
      },
      "source": [
        "## Exploratory Data Analysis\n",
        "Pada tahap ini, kita akan melakukan ekplorasi terhadap variabel-variabel yang ada pada dataset yang kita gunakan. Pemahaman terhadap variabel ini penting karena akan membantu kita dalam menentukan pendekatan atau algoritma yang cocok untuk data kita."
      ]
    },
    {
      "cell_type": "code",
      "execution_count": 16,
      "metadata": {
        "colab": {
          "base_uri": "https://localhost:8080/"
        },
        "id": "88DDMro9qQPE",
        "outputId": "f7e9de7f-9876-4158-9bdd-539d32a70193"
      },
      "outputs": [
        {
          "data": {
            "text/plain": [
              "['bookID',\n",
              " 'title',\n",
              " 'authors',\n",
              " 'average_rating',\n",
              " 'isbn',\n",
              " 'isbn13',\n",
              " 'language',\n",
              " 'num_pages',\n",
              " 'ratings_count',\n",
              " 'text_reviews_count',\n",
              " 'publication_date',\n",
              " 'publisher',\n",
              " 'publication_year']"
            ]
          },
          "execution_count": 16,
          "metadata": {},
          "output_type": "execute_result"
        }
      ],
      "source": [
        "list(books)"
      ]
    },
    {
      "cell_type": "code",
      "execution_count": 17,
      "metadata": {
        "colab": {
          "base_uri": "https://localhost:8080/",
          "height": 816
        },
        "id": "bwO3y06AqQPE",
        "outputId": "5d28ea1f-eac7-4618-fac0-48f53bef31bc"
      },
      "outputs": [
        {
          "name": "stdout",
          "output_type": "stream",
          "text": [
            "Total of Authors:  4484\n",
            "Stephen King        40\n",
            "P.G. Wodehouse      40\n",
            "Rumiko Takahashi    39\n",
            "Orson Scott Card    35\n",
            "Agatha Christie     33\n",
            "Piers Anthony       30\n",
            "Sandra Brown        29\n",
            "Mercedes Lackey     29\n",
            "Dick Francis        28\n",
            "Terry Pratchett     23\n",
            "Name: authors, dtype: int64\n"
          ]
        },
        {
          "data": {
            "image/png": "[encoded data removed]",
            "text/plain": [
              "<Figure size 1080x720 with 1 Axes>"
            ]
          },
          "metadata": {
            "needs_background": "light"
          },
          "output_type": "display_data"
        }
      ],
      "source": [
        "num_of_author = books['authors'].duplicated().sum()\n",
        "author = books.authors.value_counts()[0:10]\n",
        "print('Total of Authors: ', num_of_author)\n",
        "print(author)\n",
        "\n",
        "plt.figure(figsize=(15, 10))\n",
        "sns.barplot(x=author, y=author.index)\n",
        "plt.xticks(rotation=90)\n",
        "plt.ylabel('Authors')\n",
        "plt.xlabel('Number of Books Has Written')\n",
        "plt.show()"
      ]
    },
    {
      "cell_type": "markdown",
      "metadata": {
        "id": "ZK5g0woQqQPE"
      },
      "source": [
        "Berdasarkan output di atas, dari total 4484 penulis dapat kita lihat Top-10 penulis dengan buku terbanyak yang telah ditulis. Author dengan buku terbanyak yang ditulis adalah Stephen King sebanyak 40 buku. "
      ]
    },
    {
      "cell_type": "code",
      "execution_count": 18,
      "metadata": {
        "colab": {
          "base_uri": "https://localhost:8080/",
          "height": 823
        },
        "id": "hj_J7xO9qQPE",
        "outputId": "c93bcf42-3f6a-43e6-e620-f6e1e1937672"
      },
      "outputs": [
        {
          "name": "stdout",
          "output_type": "stream",
          "text": [
            "Total of Publishers:  8833\n",
            "Vintage             318\n",
            "Penguin Books       261\n",
            "Penguin Classics    184\n",
            "Mariner Books       150\n",
            "Ballantine Books    144\n",
            "Harper Perennial    112\n",
            "HarperCollins       112\n",
            "Pocket Books        111\n",
            "Bantam              110\n",
            "VIZ Media LLC        88\n",
            "Name: publisher, dtype: int64\n"
          ]
        },
        {
          "data": {
            "image/png": "[encoded data removed]",
            "text/plain": [
              "<Figure size 1080x720 with 1 Axes>"
            ]
          },
          "metadata": {
            "needs_background": "light"
          },
          "output_type": "display_data"
        }
      ],
      "source": [
        "num_of_pub = books['publisher'].duplicated().sum()\n",
        "publisher = books.publisher.value_counts()[0:10]\n",
        "print('Total of Publishers: ', num_of_pub)\n",
        "print(publisher)\n",
        "\n",
        "plt.figure(figsize=(15,10))\n",
        "sns.barplot(x=publisher,y=publisher.index)\n",
        "plt.xticks(rotation=90)\n",
        "plt.ylabel('Publishers')\n",
        "plt.xlabel('Number of Books Has Publisher')\n",
        "plt.show()"
      ]
    },
    {
      "cell_type": "markdown",
      "metadata": {
        "id": "5u5onk6kqQPE"
      },
      "source": [
        "Dari output di atas kita dapat melihat Top-10 penerbit dengan buku yang telah diterbitkan dari total 8833 penerbit. Vintage merupakan penerbit yang menerbitkan buku terbanyak dengan total 318 buku yang telah diterbitkan di bawah nama Vintage."
      ]
    },
    {
      "cell_type": "code",
      "execution_count": 19,
      "metadata": {
        "colab": {
          "base_uri": "https://localhost:8080/",
          "height": 814
        },
        "id": "WubABSbUqQPF",
        "outputId": "6788d11b-d79f-4cd6-a19f-ef0045242048"
      },
      "outputs": [
        {
          "name": "stdout",
          "output_type": "stream",
          "text": [
            "Total of Languages:  27\n",
            "English              8908\n",
            "US-English           1408\n",
            "Spanish               218\n",
            "British-English       214\n",
            "French                144\n",
            "German                 99\n",
            "Japanese               46\n",
            "Multiple language      19\n",
            "Chinese                14\n",
            "Greek                  11\n",
            "Name: language, dtype: int64\n"
          ]
        },
        {
          "data": {
            "image/png": "[encoded data removed]",
            "text/plain": [
              "<Figure size 1080x720 with 1 Axes>"
            ]
          },
          "metadata": {
            "needs_background": "light"
          },
          "output_type": "display_data"
        }
      ],
      "source": [
        "num_of_lang = books['language'].nunique()\n",
        "languages = books.language.value_counts()[0:10]\n",
        "print('Total of Languages: ', num_of_lang)\n",
        "print(languages)\n",
        "\n",
        "plt.figure(figsize=(15, 10))\n",
        "sns.barplot(x=languages.index, y=languages)\n",
        "plt.ylabel('Count')\n",
        "plt.xlabel('Languages')\n",
        "plt.show()"
      ]
    },
    {
      "cell_type": "markdown",
      "metadata": {
        "id": "zk5tewQnqQPF"
      },
      "source": [
        "Dari total 27 bahasa, Inggris merupakan bahasa yang paling banyak digunakan pada buku yang ada di dataset dengan total 8908 buku yang ditulis dalam bahasa Inggris."
      ]
    },
    {
      "cell_type": "code",
      "execution_count": 20,
      "metadata": {
        "colab": {
          "base_uri": "https://localhost:8080/",
          "height": 797
        },
        "id": "JAbLi64fqQPF",
        "outputId": "b8fc49b4-eaf6-4068-813c-827e9323a95e"
      },
      "outputs": [
        {
          "name": "stdout",
          "output_type": "stream",
          "text": [
            "2006    1700\n",
            "2005    1260\n",
            "2004    1069\n",
            "2003     931\n",
            "2002     798\n",
            "2001     656\n",
            "2000     534\n",
            "2007     518\n",
            "1999     450\n",
            "1998     396\n",
            "Name: publication_year, dtype: int64\n"
          ]
        },
        {
          "data": {
            "image/png": "[encoded data removed]",
            "text/plain": [
              "<Figure size 1080x720 with 1 Axes>"
            ]
          },
          "metadata": {
            "needs_background": "light"
          },
          "output_type": "display_data"
        }
      ],
      "source": [
        "year = books['publication_year'].value_counts()[0:10]\n",
        "print(year)\n",
        "\n",
        "plt.figure(figsize=(15,10))\n",
        "sns.barplot(x=year.index, y=year)\n",
        "plt.ylabel('Count')\n",
        "plt.xlabel('Year')\n",
        "plt.show()"
      ]
    },
    {
      "cell_type": "markdown",
      "metadata": {
        "id": "fpkIR_r7qQPF"
      },
      "source": [
        "Berdasarkan grafik di atas, tahun 2006 merupakan tahun di mana buku paling banyak diterbitkan dengan total 1700 buku yang diterbitkan pada tahun tersebut."
      ]
    },
    {
      "cell_type": "code",
      "execution_count": 21,
      "metadata": {
        "colab": {
          "base_uri": "https://localhost:8080/",
          "height": 386
        },
        "id": "J-DYWM6zqQPF",
        "outputId": "2a2ca0cf-935d-481d-8be2-a6d25b2a887f"
      },
      "outputs": [
        {
          "name": "stdout",
          "output_type": "stream",
          "text": [
            "Average Rating of All Books :  3.93\n"
          ]
        },
        {
          "data": {
            "image/png": "[encoded data removed]",
            "text/plain": [
              "<Figure size 720x360 with 1 Axes>"
            ]
          },
          "metadata": {
            "needs_background": "light"
          },
          "output_type": "display_data"
        }
      ],
      "source": [
        "average_rating = round(books['average_rating'].mean(), 2)\n",
        "print('Average Rating of All Books : ', average_rating)\n",
        "\n",
        "graph = sns.displot(books, x='average_rating', kind='kde', fill=True);\n",
        "graph.fig.set_figwidth(10)"
      ]
    },
    {
      "cell_type": "markdown",
      "metadata": {
        "id": "0jin-M9cqQPF"
      },
      "source": [
        "Berdasarkan grafik di atas, rata-rata penilaian atau rating yang diberikan untuk semua buku adalah 3.93."
      ]
    },
    {
      "cell_type": "code",
      "execution_count": 22,
      "metadata": {
        "colab": {
          "base_uri": "https://localhost:8080/",
          "height": 606
        },
        "id": "C1SQQEtrqQPG",
        "outputId": "d9b0fc2e-3cbf-4a05-a7f7-689398b90c24"
      },
      "outputs": [
        {
          "data": {
            "image/png": "[encoded data removed]",
            "text/plain": [
              "<Figure size 1080x720 with 1 Axes>"
            ]
          },
          "metadata": {
            "needs_background": "light"
          },
          "output_type": "display_data"
        }
      ],
      "source": [
        "top_10_rating = books[books['ratings_count']>1000000].sort_values(by='ratings_count', ascending=False)[0:10]\n",
        "\n",
        "plt.figure(figsize=(15,10))\n",
        "sns.barplot(x=top_10_rating.ratings_count, y=top_10_rating['title'])\n",
        "plt.ylabel('Title')\n",
        "plt.xlabel('Ratings Count')\n",
        "plt.ticklabel_format(style='plain', axis='x')\n",
        "plt.show()"
      ]
    },
    {
      "cell_type": "markdown",
      "metadata": {
        "id": "AkU_LkcNqQPG"
      },
      "source": [
        "Berdasarkan grafik di atas, buku dengan judul Twilight menempati posisi teratas untuk buku dengan rating terbanyak yang diberikan."
      ]
    },
    {
      "cell_type": "code",
      "execution_count": 23,
      "metadata": {
        "colab": {
          "base_uri": "https://localhost:8080/",
          "height": 606
        },
        "id": "a5YZ9T-PqQPG",
        "outputId": "63c28e20-c0ed-4c15-abbc-881403b76910"
      },
      "outputs": [
        {
          "data": {
            "image/png": "[encoded data removed]",
            "text/plain": [
              "<Figure size 1080x720 with 1 Axes>"
            ]
          },
          "metadata": {
            "needs_background": "light"
          },
          "output_type": "display_data"
        }
      ],
      "source": [
        "top_10_books = top_10_rating.sort_values(by='average_rating', ascending=False)[0:10]\n",
        "\n",
        "plt.figure(figsize=(15,10))\n",
        "sns.barplot(x=top_10_books.average_rating, y=top_10_books['title'])\n",
        "plt.ylabel('Title')\n",
        "plt.xlabel('Rating')\n",
        "plt.ticklabel_format(style='plain', axis='x')\n",
        "plt.show()"
      ]
    },
    {
      "cell_type": "markdown",
      "metadata": {
        "id": "6nLDe1eyqQPG"
      },
      "source": [
        "Berdasarkan grafik di atas, buku dengan judul Harry Potter and the Half-Blood Prince menempati posisi teratas untuk buku dengan rating tertinggi."
      ]
    },
    {
      "cell_type": "code",
      "execution_count": 24,
      "metadata": {
        "colab": {
          "base_uri": "https://localhost:8080/",
          "height": 613
        },
        "id": "u_R_MFeZqQPG",
        "outputId": "01012709-7d07-478b-efc3-6ed40d4cb46b"
      },
      "outputs": [
        {
          "data": {
            "text/plain": [
              "<matplotlib.axes._subplots.AxesSubplot at 0x7f868360c210>"
            ]
          },
          "execution_count": 24,
          "metadata": {},
          "output_type": "execute_result"
        },
        {
          "data": {
            "image/png": "[encoded data removed]",
            "text/plain": [
              "<Figure size 1080x720 with 2 Axes>"
            ]
          },
          "metadata": {
            "needs_background": "light"
          },
          "output_type": "display_data"
        }
      ],
      "source": [
        "plt.figure(figsize=(15, 10))\n",
        "correlation_matrix = books.corr().round(2)\n",
        "sns.heatmap(correlation_matrix, annot=True, cmap=\"coolwarm\")"
      ]
    },
    {
      "cell_type": "markdown",
      "metadata": {
        "id": "FlERMGdFqQPG"
      },
      "source": [
        "Dari hasil metrik korelasi di atas, kita dapat melihat bahwa variabel text_review_count dengan ratings_count memiliki korelasi yang sangat baik. Perlu diketahui bahwa semakin mendekati angka 1 maka korelasi akan semakin bagus. Oleh karena itu kita perlu melihat hubungan antara average_rating dengan variabel lainnya karena di sini rating memiliki pengaruh yang besar untuk merekomendasikan suatu buku kepada pengguna."
      ]
    },
    {
      "cell_type": "code",
      "execution_count": 25,
      "metadata": {
        "colab": {
          "base_uri": "https://localhost:8080/",
          "height": 509
        },
        "id": "Cr0oQ01SqQPG",
        "outputId": "aed6ebb2-9198-40c4-ecf4-369618ac0bbe"
      },
      "outputs": [
        {
          "data": {
            "image/png": "[encoded data removed]",
            "text/plain": [
              "<Figure size 720x576 with 1 Axes>"
            ]
          },
          "metadata": {
            "needs_background": "light"
          },
          "output_type": "display_data"
        }
      ],
      "source": [
        "plt.figure(figsize=(10, 8))\n",
        "sns.scatterplot(data=books, x='average_rating', y='ratings_count')\n",
        "plt.show()"
      ]
    },
    {
      "cell_type": "code",
      "execution_count": 26,
      "metadata": {
        "colab": {
          "base_uri": "https://localhost:8080/",
          "height": 498
        },
        "id": "E57fq0auqQPH",
        "outputId": "9e7a4569-311c-4410-f187-0d9b92395295"
      },
      "outputs": [
        {
          "data": {
            "image/png": "[encoded data removed]",
            "text/plain": [
              "<Figure size 720x576 with 1 Axes>"
            ]
          },
          "metadata": {
            "needs_background": "light"
          },
          "output_type": "display_data"
        }
      ],
      "source": [
        "plt.figure(figsize=(10, 8))\n",
        "sns.scatterplot(data=books, x='average_rating', y='text_reviews_count')\n",
        "plt.show()"
      ]
    },
    {
      "cell_type": "code",
      "execution_count": 27,
      "metadata": {
        "colab": {
          "base_uri": "https://localhost:8080/",
          "height": 498
        },
        "id": "1dGN4TgYqQPH",
        "outputId": "654e9e37-7f66-4af5-84ce-e4f8147da48c"
      },
      "outputs": [
        {
          "data": {
            "image/png": "[encoded data removed]",
            "text/plain": [
              "<Figure size 720x576 with 1 Axes>"
            ]
          },
          "metadata": {
            "needs_background": "light"
          },
          "output_type": "display_data"
        }
      ],
      "source": [
        "plt.figure(figsize=(10, 8))\n",
        "sns.scatterplot(data=books, x='average_rating', y='num_pages')\n",
        "plt.show()"
      ]
    },
    {
      "cell_type": "code",
      "execution_count": 28,
      "metadata": {
        "colab": {
          "base_uri": "https://localhost:8080/",
          "height": 498
        },
        "id": "AAhiZuWvqQPH",
        "outputId": "54508e16-407b-45d2-bd21-b810d7554cc6"
      },
      "outputs": [
        {
          "data": {
            "image/png": "[encoded data removed]",
            "text/plain": [
              "<Figure size 720x576 with 1 Axes>"
            ]
          },
          "metadata": {
            "needs_background": "light"
          },
          "output_type": "display_data"
        }
      ],
      "source": [
        "plt.figure(figsize=(10, 8))\n",
        "sns.scatterplot(data=books, x='average_rating', y='language')\n",
        "plt.show()"
      ]
    },
    {
      "cell_type": "markdown",
      "metadata": {
        "id": "MFGhVfQHqQPH"
      },
      "source": [
        "Dari hasil scatterplot di atas, dapat diambil kesimpulan sebagai berikut:\n",
        "- Tidak ada korelasi khusus antara variabel average_rating dengan variabel ratings_count, text_reviews_count, dan num_pages.\n",
        "- Variabel average_rating dengan variabel language memiliki distribusi penyebaran yang baik sehingga kita akan menggunakan kedua variabel tersebut untuk merekomendasikan buku nanti."
      ]
    },
    {
      "cell_type": "markdown",
      "metadata": {
        "id": "SjGj-_lcqQPH"
      },
      "source": [
        "## Data Preparation\n",
        "Pada bagian ini, kita akan melakukan persiapan padaa dataset kita agar lebih mudah pada tahap pemodelan nanti."
      ]
    },
    {
      "cell_type": "code",
      "execution_count": 29,
      "metadata": {
        "id": "vUcLzQ7mqQPH"
      },
      "outputs": [],
      "source": [
        "books.loc[(books['average_rating'] >= 0) & (books['average_rating'] <= 1), 'rating_between'] = \"between 0 and 1\"\n",
        "books.loc[(books['average_rating'] > 1) & (books['average_rating'] <= 2), 'rating_between'] = \"between 1 and 2\"\n",
        "books.loc[(books['average_rating'] > 2) & (books['average_rating'] <= 3), 'rating_between'] = \"between 2 and 3\"\n",
        "books.loc[(books['average_rating'] > 3) & (books['average_rating'] <= 4), 'rating_between'] = \"between 3 and 4\"\n",
        "books.loc[(books['average_rating'] > 4) & (books['average_rating'] <= 5), 'rating_between'] = \"between 4 and 5\""
      ]
    },
    {
      "cell_type": "markdown",
      "metadata": {
        "id": "TSGrOcAVqQPH"
      },
      "source": [
        "Selanjutnya kita menambahkan kolom dengan nama rating_between yang berisikan rating antara 0 sampai 1, 1 sampai 2, 2 sampai 3,3 sampai 4, dan 4 sampai 5. Hal tersebut dilakukan agar sistem kita bekerja dengan maksimal untuk menghasilkan rekomendasi yang baik."
      ]
    },
    {
      "cell_type": "code",
      "execution_count": 30,
      "metadata": {
        "colab": {
          "base_uri": "https://localhost:8080/",
          "height": 791
        },
        "id": "gnmfbfL8qQPI",
        "outputId": "a6e2fde5-212b-4cb0-f0bd-fca2d5930d56"
      },
      "outputs": [
        {
          "data": {
            "text/html": [
              "\n",
              "  <div id=\"df-10422648-1974-4b6c-8de2-79de451f625f\">\n",
              "    <div class=\"colab-df-container\">\n",
              "      <div>\n",
              "<style scoped>\n",
              "    .dataframe tbody tr th:only-of-type {\n",
              "        vertical-align: middle;\n",
              "    }\n",
              "\n",
              "    .dataframe tbody tr th {\n",
              "        vertical-align: top;\n",
              "    }\n",
              "\n",
              "    .dataframe thead th {\n",
              "        text-align: right;\n",
              "    }\n",
              "</style>\n",
              "<table border=\"1\" class=\"dataframe\">\n",
              "  <thead>\n",
              "    <tr style=\"text-align: right;\">\n",
              "      <th></th>\n",
              "      <th>bookID</th>\n",
              "      <th>title</th>\n",
              "      <th>authors</th>\n",
              "      <th>average_rating</th>\n",
              "      <th>isbn</th>\n",
              "      <th>isbn13</th>\n",
              "      <th>language</th>\n",
              "      <th>num_pages</th>\n",
              "      <th>ratings_count</th>\n",
              "      <th>text_reviews_count</th>\n",
              "      <th>publication_date</th>\n",
              "      <th>publisher</th>\n",
              "      <th>publication_year</th>\n",
              "      <th>rating_between</th>\n",
              "    </tr>\n",
              "  </thead>\n",
              "  <tbody>\n",
              "    <tr>\n",
              "      <th>0</th>\n",
              "      <td>1</td>\n",
              "      <td>Harry Potter and the Half-Blood Prince (Harry ...</td>\n",
              "      <td>J.K. Rowling/Mary GrandPré</td>\n",
              "      <td>4.57</td>\n",
              "      <td>0439785960</td>\n",
              "      <td>9780439785969</td>\n",
              "      <td>English</td>\n",
              "      <td>652</td>\n",
              "      <td>2095690</td>\n",
              "      <td>27591</td>\n",
              "      <td>9/16/2006</td>\n",
              "      <td>Scholastic Inc.</td>\n",
              "      <td>2006</td>\n",
              "      <td>between 4 and 5</td>\n",
              "    </tr>\n",
              "    <tr>\n",
              "      <th>1</th>\n",
              "      <td>2</td>\n",
              "      <td>Harry Potter and the Order of the Phoenix (Har...</td>\n",
              "      <td>J.K. Rowling/Mary GrandPré</td>\n",
              "      <td>4.49</td>\n",
              "      <td>0439358078</td>\n",
              "      <td>9780439358071</td>\n",
              "      <td>English</td>\n",
              "      <td>870</td>\n",
              "      <td>2153167</td>\n",
              "      <td>29221</td>\n",
              "      <td>9/1/2004</td>\n",
              "      <td>Scholastic Inc.</td>\n",
              "      <td>2004</td>\n",
              "      <td>between 4 and 5</td>\n",
              "    </tr>\n",
              "    <tr>\n",
              "      <th>2</th>\n",
              "      <td>4</td>\n",
              "      <td>Harry Potter and the Chamber of Secrets (Harry...</td>\n",
              "      <td>J.K. Rowling</td>\n",
              "      <td>4.42</td>\n",
              "      <td>0439554896</td>\n",
              "      <td>9780439554893</td>\n",
              "      <td>English</td>\n",
              "      <td>352</td>\n",
              "      <td>6333</td>\n",
              "      <td>244</td>\n",
              "      <td>11/1/2003</td>\n",
              "      <td>Scholastic</td>\n",
              "      <td>2003</td>\n",
              "      <td>between 4 and 5</td>\n",
              "    </tr>\n",
              "    <tr>\n",
              "      <th>3</th>\n",
              "      <td>5</td>\n",
              "      <td>Harry Potter and the Prisoner of Azkaban (Harr...</td>\n",
              "      <td>J.K. Rowling/Mary GrandPré</td>\n",
              "      <td>4.56</td>\n",
              "      <td>043965548X</td>\n",
              "      <td>9780439655484</td>\n",
              "      <td>English</td>\n",
              "      <td>435</td>\n",
              "      <td>2339585</td>\n",
              "      <td>36325</td>\n",
              "      <td>5/1/2004</td>\n",
              "      <td>Scholastic Inc.</td>\n",
              "      <td>2004</td>\n",
              "      <td>between 4 and 5</td>\n",
              "    </tr>\n",
              "    <tr>\n",
              "      <th>4</th>\n",
              "      <td>8</td>\n",
              "      <td>Harry Potter Boxed Set  Books 1-5 (Harry Potte...</td>\n",
              "      <td>J.K. Rowling/Mary GrandPré</td>\n",
              "      <td>4.78</td>\n",
              "      <td>0439682584</td>\n",
              "      <td>9780439682589</td>\n",
              "      <td>English</td>\n",
              "      <td>2690</td>\n",
              "      <td>41428</td>\n",
              "      <td>164</td>\n",
              "      <td>9/13/2004</td>\n",
              "      <td>Scholastic</td>\n",
              "      <td>2004</td>\n",
              "      <td>between 4 and 5</td>\n",
              "    </tr>\n",
              "  </tbody>\n",
              "</table>\n",
              "</div>\n",
              "      <button class=\"colab-df-convert\" onclick=\"convertToInteractive('df-10422648-1974-4b6c-8de2-79de451f625f')\"\n",
              "              title=\"Convert this dataframe to an interactive table.\"\n",
              "              style=\"display:none;\">\n",
              "        \n",
              "  <svg xmlns=\"http://www.w3.org/2000/svg\" height=\"24px\"viewBox=\"0 0 24 24\"\n",
              "       width=\"24px\">\n",
              "    <path d=\"M0 0h24v24H0V0z\" fill=\"none\"/>\n",
              "    <path d=\"M18.56 5.44l.94 2.06.94-2.06 2.06-.94-2.06-.94-.94-2.06-.94 2.06-2.06.94zm-11 1L8.5 8.5l.94-2.06 2.06-.94-2.06-.94L8.5 2.5l-.94 2.06-2.06.94zm10 10l.94 2.06.94-2.06 2.06-.94-2.06-.94-.94-2.06-.94 2.06-2.06.94z\"/><path d=\"M17.41 7.96l-1.37-1.37c-.4-.4-.92-.59-1.43-.59-.52 0-1.04.2-1.43.59L10.3 9.45l-7.72 7.72c-.78.78-.78 2.05 0 2.83L4 21.41c.39.39.9.59 1.41.59.51 0 1.02-.2 1.41-.59l7.78-7.78 2.81-2.81c.8-.78.8-2.07 0-2.86zM5.41 20L4 18.59l7.72-7.72 1.47 1.35L5.41 20z\"/>\n",
              "  </svg>\n",
              "      </button>\n",
              "      \n",
              "  <style>\n",
              "    .colab-df-container {\n",
              "      display:flex;\n",
              "      flex-wrap:wrap;\n",
              "      gap: 12px;\n",
              "    }\n",
              "\n",
              "    .colab-df-convert {\n",
              "      background-color: #E8F0FE;\n",
              "      border: none;\n",
              "      border-radius: 50%;\n",
              "      cursor: pointer;\n",
              "      display: none;\n",
              "      fill: #1967D2;\n",
              "      height: 32px;\n",
              "      padding: 0 0 0 0;\n",
              "      width: 32px;\n",
              "    }\n",
              "\n",
              "    .colab-df-convert:hover {\n",
              "      background-color: #E2EBFA;\n",
              "      box-shadow: 0px 1px 2px rgba(60, 64, 67, 0.3), 0px 1px 3px 1px rgba(60, 64, 67, 0.15);\n",
              "      fill: #174EA6;\n",
              "    }\n",
              "\n",
              "    [theme=dark] .colab-df-convert {\n",
              "      background-color: #3B4455;\n",
              "      fill: #D2E3FC;\n",
              "    }\n",
              "\n",
              "    [theme=dark] .colab-df-convert:hover {\n",
              "      background-color: #434B5C;\n",
              "      box-shadow: 0px 1px 3px 1px rgba(0, 0, 0, 0.15);\n",
              "      filter: drop-shadow(0px 1px 2px rgba(0, 0, 0, 0.3));\n",
              "      fill: #FFFFFF;\n",
              "    }\n",
              "  </style>\n",
              "\n",
              "      <script>\n",
              "        const buttonEl =\n",
              "          document.querySelector('#df-10422648-1974-4b6c-8de2-79de451f625f button.colab-df-convert');\n",
              "        buttonEl.style.display =\n",
              "          google.colab.kernel.accessAllowed ? 'block' : 'none';\n",
              "\n",
              "        async function convertToInteractive(key) {\n",
              "          const element = document.querySelector('#df-10422648-1974-4b6c-8de2-79de451f625f');\n",
              "          const dataTable =\n",
              "            await google.colab.kernel.invokeFunction('convertToInteractive',\n",
              "                                                     [key], {});\n",
              "          if (!dataTable) return;\n",
              "\n",
              "          const docLinkHtml = 'Like what you see? Visit the ' +\n",
              "            '<a target=\"_blank\" href=https://colab.research.google.com/notebooks/data_table.ipynb>data table notebook</a>'\n",
              "            + ' to learn more about interactive tables.';\n",
              "          element.innerHTML = '';\n",
              "          dataTable['output_type'] = 'display_data';\n",
              "          await google.colab.output.renderOutput(dataTable, element);\n",
              "          const docLink = document.createElement('div');\n",
              "          docLink.innerHTML = docLinkHtml;\n",
              "          element.appendChild(docLink);\n",
              "        }\n",
              "      </script>\n",
              "    </div>\n",
              "  </div>\n",
              "  "
            ],
            "text/plain": [
              "   bookID                                              title  \\\n",
              "0       1  Harry Potter and the Half-Blood Prince (Harry ...   \n",
              "1       2  Harry Potter and the Order of the Phoenix (Har...   \n",
              "2       4  Harry Potter and the Chamber of Secrets (Harry...   \n",
              "3       5  Harry Potter and the Prisoner of Azkaban (Harr...   \n",
              "4       8  Harry Potter Boxed Set  Books 1-5 (Harry Potte...   \n",
              "\n",
              "                      authors  average_rating        isbn         isbn13  \\\n",
              "0  J.K. Rowling/Mary GrandPré            4.57  0439785960  9780439785969   \n",
              "1  J.K. Rowling/Mary GrandPré            4.49  0439358078  9780439358071   \n",
              "2                J.K. Rowling            4.42  0439554896  9780439554893   \n",
              "3  J.K. Rowling/Mary GrandPré            4.56  043965548X  9780439655484   \n",
              "4  J.K. Rowling/Mary GrandPré            4.78  0439682584  9780439682589   \n",
              "\n",
              "  language  num_pages  ratings_count  text_reviews_count publication_date  \\\n",
              "0  English        652        2095690               27591        9/16/2006   \n",
              "1  English        870        2153167               29221         9/1/2004   \n",
              "2  English        352           6333                 244        11/1/2003   \n",
              "3  English        435        2339585               36325         5/1/2004   \n",
              "4  English       2690          41428                 164        9/13/2004   \n",
              "\n",
              "         publisher  publication_year   rating_between  \n",
              "0  Scholastic Inc.              2006  between 4 and 5  \n",
              "1  Scholastic Inc.              2004  between 4 and 5  \n",
              "2       Scholastic              2003  between 4 and 5  \n",
              "3  Scholastic Inc.              2004  between 4 and 5  \n",
              "4       Scholastic              2004  between 4 and 5  "
            ]
          },
          "execution_count": 30,
          "metadata": {},
          "output_type": "execute_result"
        }
      ],
      "source": [
        "books.head()"
      ]
    },
    {
      "cell_type": "code",
      "execution_count": 31,
      "metadata": {
        "id": "5Oo-9KUCqQPI"
      },
      "outputs": [],
      "source": [
        "books_rating = pd.get_dummies(books['rating_between'])\n",
        "books_language = pd.get_dummies(books['language'])"
      ]
    },
    {
      "cell_type": "markdown",
      "metadata": {
        "id": "Hp9_SJiTqQPI"
      },
      "source": [
        "Kita memisahkan variabel rating_between dan language dengan membuat dataframe baru untuk masing-masing variabel."
      ]
    },
    {
      "cell_type": "code",
      "execution_count": 32,
      "metadata": {
        "colab": {
          "base_uri": "https://localhost:8080/",
          "height": 206
        },
        "id": "sd0e_dF6qQPI",
        "outputId": "0a21ae44-da5f-466b-e215-98f352f22e6b"
      },
      "outputs": [
        {
          "data": {
            "text/html": [
              "\n",
              "  <div id=\"df-5fa2c88c-0911-47f6-b1ea-218e1b34ba80\">\n",
              "    <div class=\"colab-df-container\">\n",
              "      <div>\n",
              "<style scoped>\n",
              "    .dataframe tbody tr th:only-of-type {\n",
              "        vertical-align: middle;\n",
              "    }\n",
              "\n",
              "    .dataframe tbody tr th {\n",
              "        vertical-align: top;\n",
              "    }\n",
              "\n",
              "    .dataframe thead th {\n",
              "        text-align: right;\n",
              "    }\n",
              "</style>\n",
              "<table border=\"1\" class=\"dataframe\">\n",
              "  <thead>\n",
              "    <tr style=\"text-align: right;\">\n",
              "      <th></th>\n",
              "      <th>between 0 and 1</th>\n",
              "      <th>between 1 and 2</th>\n",
              "      <th>between 2 and 3</th>\n",
              "      <th>between 3 and 4</th>\n",
              "      <th>between 4 and 5</th>\n",
              "    </tr>\n",
              "  </thead>\n",
              "  <tbody>\n",
              "    <tr>\n",
              "      <th>0</th>\n",
              "      <td>0</td>\n",
              "      <td>0</td>\n",
              "      <td>0</td>\n",
              "      <td>0</td>\n",
              "      <td>1</td>\n",
              "    </tr>\n",
              "    <tr>\n",
              "      <th>1</th>\n",
              "      <td>0</td>\n",
              "      <td>0</td>\n",
              "      <td>0</td>\n",
              "      <td>0</td>\n",
              "      <td>1</td>\n",
              "    </tr>\n",
              "    <tr>\n",
              "      <th>2</th>\n",
              "      <td>0</td>\n",
              "      <td>0</td>\n",
              "      <td>0</td>\n",
              "      <td>0</td>\n",
              "      <td>1</td>\n",
              "    </tr>\n",
              "    <tr>\n",
              "      <th>3</th>\n",
              "      <td>0</td>\n",
              "      <td>0</td>\n",
              "      <td>0</td>\n",
              "      <td>0</td>\n",
              "      <td>1</td>\n",
              "    </tr>\n",
              "    <tr>\n",
              "      <th>4</th>\n",
              "      <td>0</td>\n",
              "      <td>0</td>\n",
              "      <td>0</td>\n",
              "      <td>0</td>\n",
              "      <td>1</td>\n",
              "    </tr>\n",
              "  </tbody>\n",
              "</table>\n",
              "</div>\n",
              "      <button class=\"colab-df-convert\" onclick=\"convertToInteractive('df-5fa2c88c-0911-47f6-b1ea-218e1b34ba80')\"\n",
              "              title=\"Convert this dataframe to an interactive table.\"\n",
              "              style=\"display:none;\">\n",
              "        \n",
              "  <svg xmlns=\"http://www.w3.org/2000/svg\" height=\"24px\"viewBox=\"0 0 24 24\"\n",
              "       width=\"24px\">\n",
              "    <path d=\"M0 0h24v24H0V0z\" fill=\"none\"/>\n",
              "    <path d=\"M18.56 5.44l.94 2.06.94-2.06 2.06-.94-2.06-.94-.94-2.06-.94 2.06-2.06.94zm-11 1L8.5 8.5l.94-2.06 2.06-.94-2.06-.94L8.5 2.5l-.94 2.06-2.06.94zm10 10l.94 2.06.94-2.06 2.06-.94-2.06-.94-.94-2.06-.94 2.06-2.06.94z\"/><path d=\"M17.41 7.96l-1.37-1.37c-.4-.4-.92-.59-1.43-.59-.52 0-1.04.2-1.43.59L10.3 9.45l-7.72 7.72c-.78.78-.78 2.05 0 2.83L4 21.41c.39.39.9.59 1.41.59.51 0 1.02-.2 1.41-.59l7.78-7.78 2.81-2.81c.8-.78.8-2.07 0-2.86zM5.41 20L4 18.59l7.72-7.72 1.47 1.35L5.41 20z\"/>\n",
              "  </svg>\n",
              "      </button>\n",
              "      \n",
              "  <style>\n",
              "    .colab-df-container {\n",
              "      display:flex;\n",
              "      flex-wrap:wrap;\n",
              "      gap: 12px;\n",
              "    }\n",
              "\n",
              "    .colab-df-convert {\n",
              "      background-color: #E8F0FE;\n",
              "      border: none;\n",
              "      border-radius: 50%;\n",
              "      cursor: pointer;\n",
              "      display: none;\n",
              "      fill: #1967D2;\n",
              "      height: 32px;\n",
              "      padding: 0 0 0 0;\n",
              "      width: 32px;\n",
              "    }\n",
              "\n",
              "    .colab-df-convert:hover {\n",
              "      background-color: #E2EBFA;\n",
              "      box-shadow: 0px 1px 2px rgba(60, 64, 67, 0.3), 0px 1px 3px 1px rgba(60, 64, 67, 0.15);\n",
              "      fill: #174EA6;\n",
              "    }\n",
              "\n",
              "    [theme=dark] .colab-df-convert {\n",
              "      background-color: #3B4455;\n",
              "      fill: #D2E3FC;\n",
              "    }\n",
              "\n",
              "    [theme=dark] .colab-df-convert:hover {\n",
              "      background-color: #434B5C;\n",
              "      box-shadow: 0px 1px 3px 1px rgba(0, 0, 0, 0.15);\n",
              "      filter: drop-shadow(0px 1px 2px rgba(0, 0, 0, 0.3));\n",
              "      fill: #FFFFFF;\n",
              "    }\n",
              "  </style>\n",
              "\n",
              "      <script>\n",
              "        const buttonEl =\n",
              "          document.querySelector('#df-5fa2c88c-0911-47f6-b1ea-218e1b34ba80 button.colab-df-convert');\n",
              "        buttonEl.style.display =\n",
              "          google.colab.kernel.accessAllowed ? 'block' : 'none';\n",
              "\n",
              "        async function convertToInteractive(key) {\n",
              "          const element = document.querySelector('#df-5fa2c88c-0911-47f6-b1ea-218e1b34ba80');\n",
              "          const dataTable =\n",
              "            await google.colab.kernel.invokeFunction('convertToInteractive',\n",
              "                                                     [key], {});\n",
              "          if (!dataTable) return;\n",
              "\n",
              "          const docLinkHtml = 'Like what you see? Visit the ' +\n",
              "            '<a target=\"_blank\" href=https://colab.research.google.com/notebooks/data_table.ipynb>data table notebook</a>'\n",
              "            + ' to learn more about interactive tables.';\n",
              "          element.innerHTML = '';\n",
              "          dataTable['output_type'] = 'display_data';\n",
              "          await google.colab.output.renderOutput(dataTable, element);\n",
              "          const docLink = document.createElement('div');\n",
              "          docLink.innerHTML = docLinkHtml;\n",
              "          element.appendChild(docLink);\n",
              "        }\n",
              "      </script>\n",
              "    </div>\n",
              "  </div>\n",
              "  "
            ],
            "text/plain": [
              "   between 0 and 1  between 1 and 2  between 2 and 3  between 3 and 4  \\\n",
              "0                0                0                0                0   \n",
              "1                0                0                0                0   \n",
              "2                0                0                0                0   \n",
              "3                0                0                0                0   \n",
              "4                0                0                0                0   \n",
              "\n",
              "   between 4 and 5  \n",
              "0                1  \n",
              "1                1  \n",
              "2                1  \n",
              "3                1  \n",
              "4                1  "
            ]
          },
          "execution_count": 32,
          "metadata": {},
          "output_type": "execute_result"
        }
      ],
      "source": [
        "books_rating.head()"
      ]
    },
    {
      "cell_type": "code",
      "execution_count": 33,
      "metadata": {
        "colab": {
          "base_uri": "https://localhost:8080/",
          "height": 297
        },
        "id": "A-JMEGA9qQPI",
        "outputId": "5261e347-9884-403e-c36a-f24421a3aaf4"
      },
      "outputs": [
        {
          "data": {
            "text/html": [
              "\n",
              "  <div id=\"df-6b984f51-c3b0-4d58-9549-e6c02bbed986\">\n",
              "    <div class=\"colab-df-container\">\n",
              "      <div>\n",
              "<style scoped>\n",
              "    .dataframe tbody tr th:only-of-type {\n",
              "        vertical-align: middle;\n",
              "    }\n",
              "\n",
              "    .dataframe tbody tr th {\n",
              "        vertical-align: top;\n",
              "    }\n",
              "\n",
              "    .dataframe thead th {\n",
              "        text-align: right;\n",
              "    }\n",
              "</style>\n",
              "<table border=\"1\" class=\"dataframe\">\n",
              "  <thead>\n",
              "    <tr style=\"text-align: right;\">\n",
              "      <th></th>\n",
              "      <th>Afro-Asiatic</th>\n",
              "      <th>Arabic</th>\n",
              "      <th>British-English</th>\n",
              "      <th>Canada-English</th>\n",
              "      <th>Chinese</th>\n",
              "      <th>Dutch</th>\n",
              "      <th>English</th>\n",
              "      <th>French</th>\n",
              "      <th>Gaelic</th>\n",
              "      <th>Galician</th>\n",
              "      <th>...</th>\n",
              "      <th>Multiple language</th>\n",
              "      <th>Murik</th>\n",
              "      <th>Portuguese</th>\n",
              "      <th>Russian</th>\n",
              "      <th>Serbian</th>\n",
              "      <th>Spanish</th>\n",
              "      <th>Swedish</th>\n",
              "      <th>Turkish</th>\n",
              "      <th>US-English</th>\n",
              "      <th>Welsh</th>\n",
              "    </tr>\n",
              "  </thead>\n",
              "  <tbody>\n",
              "    <tr>\n",
              "      <th>0</th>\n",
              "      <td>0</td>\n",
              "      <td>0</td>\n",
              "      <td>0</td>\n",
              "      <td>0</td>\n",
              "      <td>0</td>\n",
              "      <td>0</td>\n",
              "      <td>1</td>\n",
              "      <td>0</td>\n",
              "      <td>0</td>\n",
              "      <td>0</td>\n",
              "      <td>...</td>\n",
              "      <td>0</td>\n",
              "      <td>0</td>\n",
              "      <td>0</td>\n",
              "      <td>0</td>\n",
              "      <td>0</td>\n",
              "      <td>0</td>\n",
              "      <td>0</td>\n",
              "      <td>0</td>\n",
              "      <td>0</td>\n",
              "      <td>0</td>\n",
              "    </tr>\n",
              "    <tr>\n",
              "      <th>1</th>\n",
              "      <td>0</td>\n",
              "      <td>0</td>\n",
              "      <td>0</td>\n",
              "      <td>0</td>\n",
              "      <td>0</td>\n",
              "      <td>0</td>\n",
              "      <td>1</td>\n",
              "      <td>0</td>\n",
              "      <td>0</td>\n",
              "      <td>0</td>\n",
              "      <td>...</td>\n",
              "      <td>0</td>\n",
              "      <td>0</td>\n",
              "      <td>0</td>\n",
              "      <td>0</td>\n",
              "      <td>0</td>\n",
              "      <td>0</td>\n",
              "      <td>0</td>\n",
              "      <td>0</td>\n",
              "      <td>0</td>\n",
              "      <td>0</td>\n",
              "    </tr>\n",
              "    <tr>\n",
              "      <th>2</th>\n",
              "      <td>0</td>\n",
              "      <td>0</td>\n",
              "      <td>0</td>\n",
              "      <td>0</td>\n",
              "      <td>0</td>\n",
              "      <td>0</td>\n",
              "      <td>1</td>\n",
              "      <td>0</td>\n",
              "      <td>0</td>\n",
              "      <td>0</td>\n",
              "      <td>...</td>\n",
              "      <td>0</td>\n",
              "      <td>0</td>\n",
              "      <td>0</td>\n",
              "      <td>0</td>\n",
              "      <td>0</td>\n",
              "      <td>0</td>\n",
              "      <td>0</td>\n",
              "      <td>0</td>\n",
              "      <td>0</td>\n",
              "      <td>0</td>\n",
              "    </tr>\n",
              "    <tr>\n",
              "      <th>3</th>\n",
              "      <td>0</td>\n",
              "      <td>0</td>\n",
              "      <td>0</td>\n",
              "      <td>0</td>\n",
              "      <td>0</td>\n",
              "      <td>0</td>\n",
              "      <td>1</td>\n",
              "      <td>0</td>\n",
              "      <td>0</td>\n",
              "      <td>0</td>\n",
              "      <td>...</td>\n",
              "      <td>0</td>\n",
              "      <td>0</td>\n",
              "      <td>0</td>\n",
              "      <td>0</td>\n",
              "      <td>0</td>\n",
              "      <td>0</td>\n",
              "      <td>0</td>\n",
              "      <td>0</td>\n",
              "      <td>0</td>\n",
              "      <td>0</td>\n",
              "    </tr>\n",
              "    <tr>\n",
              "      <th>4</th>\n",
              "      <td>0</td>\n",
              "      <td>0</td>\n",
              "      <td>0</td>\n",
              "      <td>0</td>\n",
              "      <td>0</td>\n",
              "      <td>0</td>\n",
              "      <td>1</td>\n",
              "      <td>0</td>\n",
              "      <td>0</td>\n",
              "      <td>0</td>\n",
              "      <td>...</td>\n",
              "      <td>0</td>\n",
              "      <td>0</td>\n",
              "      <td>0</td>\n",
              "      <td>0</td>\n",
              "      <td>0</td>\n",
              "      <td>0</td>\n",
              "      <td>0</td>\n",
              "      <td>0</td>\n",
              "      <td>0</td>\n",
              "      <td>0</td>\n",
              "    </tr>\n",
              "  </tbody>\n",
              "</table>\n",
              "<p>5 rows × 27 columns</p>\n",
              "</div>\n",
              "      <button class=\"colab-df-convert\" onclick=\"convertToInteractive('df-6b984f51-c3b0-4d58-9549-e6c02bbed986')\"\n",
              "              title=\"Convert this dataframe to an interactive table.\"\n",
              "              style=\"display:none;\">\n",
              "        \n",
              "  <svg xmlns=\"http://www.w3.org/2000/svg\" height=\"24px\"viewBox=\"0 0 24 24\"\n",
              "       width=\"24px\">\n",
              "    <path d=\"M0 0h24v24H0V0z\" fill=\"none\"/>\n",
              "    <path d=\"M18.56 5.44l.94 2.06.94-2.06 2.06-.94-2.06-.94-.94-2.06-.94 2.06-2.06.94zm-11 1L8.5 8.5l.94-2.06 2.06-.94-2.06-.94L8.5 2.5l-.94 2.06-2.06.94zm10 10l.94 2.06.94-2.06 2.06-.94-2.06-.94-.94-2.06-.94 2.06-2.06.94z\"/><path d=\"M17.41 7.96l-1.37-1.37c-.4-.4-.92-.59-1.43-.59-.52 0-1.04.2-1.43.59L10.3 9.45l-7.72 7.72c-.78.78-.78 2.05 0 2.83L4 21.41c.39.39.9.59 1.41.59.51 0 1.02-.2 1.41-.59l7.78-7.78 2.81-2.81c.8-.78.8-2.07 0-2.86zM5.41 20L4 18.59l7.72-7.72 1.47 1.35L5.41 20z\"/>\n",
              "  </svg>\n",
              "      </button>\n",
              "      \n",
              "  <style>\n",
              "    .colab-df-container {\n",
              "      display:flex;\n",
              "      flex-wrap:wrap;\n",
              "      gap: 12px;\n",
              "    }\n",
              "\n",
              "    .colab-df-convert {\n",
              "      background-color: #E8F0FE;\n",
              "      border: none;\n",
              "      border-radius: 50%;\n",
              "      cursor: pointer;\n",
              "      display: none;\n",
              "      fill: #1967D2;\n",
              "      height: 32px;\n",
              "      padding: 0 0 0 0;\n",
              "      width: 32px;\n",
              "    }\n",
              "\n",
              "    .colab-df-convert:hover {\n",
              "      background-color: #E2EBFA;\n",
              "      box-shadow: 0px 1px 2px rgba(60, 64, 67, 0.3), 0px 1px 3px 1px rgba(60, 64, 67, 0.15);\n",
              "      fill: #174EA6;\n",
              "    }\n",
              "\n",
              "    [theme=dark] .colab-df-convert {\n",
              "      background-color: #3B4455;\n",
              "      fill: #D2E3FC;\n",
              "    }\n",
              "\n",
              "    [theme=dark] .colab-df-convert:hover {\n",
              "      background-color: #434B5C;\n",
              "      box-shadow: 0px 1px 3px 1px rgba(0, 0, 0, 0.15);\n",
              "      filter: drop-shadow(0px 1px 2px rgba(0, 0, 0, 0.3));\n",
              "      fill: #FFFFFF;\n",
              "    }\n",
              "  </style>\n",
              "\n",
              "      <script>\n",
              "        const buttonEl =\n",
              "          document.querySelector('#df-6b984f51-c3b0-4d58-9549-e6c02bbed986 button.colab-df-convert');\n",
              "        buttonEl.style.display =\n",
              "          google.colab.kernel.accessAllowed ? 'block' : 'none';\n",
              "\n",
              "        async function convertToInteractive(key) {\n",
              "          const element = document.querySelector('#df-6b984f51-c3b0-4d58-9549-e6c02bbed986');\n",
              "          const dataTable =\n",
              "            await google.colab.kernel.invokeFunction('convertToInteractive',\n",
              "                                                     [key], {});\n",
              "          if (!dataTable) return;\n",
              "\n",
              "          const docLinkHtml = 'Like what you see? Visit the ' +\n",
              "            '<a target=\"_blank\" href=https://colab.research.google.com/notebooks/data_table.ipynb>data table notebook</a>'\n",
              "            + ' to learn more about interactive tables.';\n",
              "          element.innerHTML = '';\n",
              "          dataTable['output_type'] = 'display_data';\n",
              "          await google.colab.output.renderOutput(dataTable, element);\n",
              "          const docLink = document.createElement('div');\n",
              "          docLink.innerHTML = docLinkHtml;\n",
              "          element.appendChild(docLink);\n",
              "        }\n",
              "      </script>\n",
              "    </div>\n",
              "  </div>\n",
              "  "
            ],
            "text/plain": [
              "   Afro-Asiatic  Arabic  British-English  Canada-English  Chinese  Dutch  \\\n",
              "0             0       0                0               0        0      0   \n",
              "1             0       0                0               0        0      0   \n",
              "2             0       0                0               0        0      0   \n",
              "3             0       0                0               0        0      0   \n",
              "4             0       0                0               0        0      0   \n",
              "\n",
              "   English  French  Gaelic  Galician  ...  Multiple language  Murik  \\\n",
              "0        1       0       0         0  ...                  0      0   \n",
              "1        1       0       0         0  ...                  0      0   \n",
              "2        1       0       0         0  ...                  0      0   \n",
              "3        1       0       0         0  ...                  0      0   \n",
              "4        1       0       0         0  ...                  0      0   \n",
              "\n",
              "   Portuguese  Russian  Serbian  Spanish  Swedish  Turkish  US-English  Welsh  \n",
              "0           0        0        0        0        0        0           0      0  \n",
              "1           0        0        0        0        0        0           0      0  \n",
              "2           0        0        0        0        0        0           0      0  \n",
              "3           0        0        0        0        0        0           0      0  \n",
              "4           0        0        0        0        0        0           0      0  \n",
              "\n",
              "[5 rows x 27 columns]"
            ]
          },
          "execution_count": 33,
          "metadata": {},
          "output_type": "execute_result"
        }
      ],
      "source": [
        "books_language.head()"
      ]
    },
    {
      "cell_type": "code",
      "execution_count": 34,
      "metadata": {
        "colab": {
          "base_uri": "https://localhost:8080/",
          "height": 317
        },
        "id": "1DH7uni2qQPI",
        "outputId": "f75015af-cb1c-4695-d1cd-fe6d5e05a75c"
      },
      "outputs": [
        {
          "data": {
            "text/html": [
              "\n",
              "  <div id=\"df-bebaa62c-6566-430a-93f2-ab2fc3ba8a6b\">\n",
              "    <div class=\"colab-df-container\">\n",
              "      <div>\n",
              "<style scoped>\n",
              "    .dataframe tbody tr th:only-of-type {\n",
              "        vertical-align: middle;\n",
              "    }\n",
              "\n",
              "    .dataframe tbody tr th {\n",
              "        vertical-align: top;\n",
              "    }\n",
              "\n",
              "    .dataframe thead th {\n",
              "        text-align: right;\n",
              "    }\n",
              "</style>\n",
              "<table border=\"1\" class=\"dataframe\">\n",
              "  <thead>\n",
              "    <tr style=\"text-align: right;\">\n",
              "      <th></th>\n",
              "      <th>between 0 and 1</th>\n",
              "      <th>between 1 and 2</th>\n",
              "      <th>between 2 and 3</th>\n",
              "      <th>between 3 and 4</th>\n",
              "      <th>between 4 and 5</th>\n",
              "      <th>Afro-Asiatic</th>\n",
              "      <th>Arabic</th>\n",
              "      <th>British-English</th>\n",
              "      <th>Canada-English</th>\n",
              "      <th>Chinese</th>\n",
              "      <th>...</th>\n",
              "      <th>Portuguese</th>\n",
              "      <th>Russian</th>\n",
              "      <th>Serbian</th>\n",
              "      <th>Spanish</th>\n",
              "      <th>Swedish</th>\n",
              "      <th>Turkish</th>\n",
              "      <th>US-English</th>\n",
              "      <th>Welsh</th>\n",
              "      <th>average_rating</th>\n",
              "      <th>ratings_count</th>\n",
              "    </tr>\n",
              "  </thead>\n",
              "  <tbody>\n",
              "    <tr>\n",
              "      <th>0</th>\n",
              "      <td>0</td>\n",
              "      <td>0</td>\n",
              "      <td>0</td>\n",
              "      <td>0</td>\n",
              "      <td>1</td>\n",
              "      <td>0</td>\n",
              "      <td>0</td>\n",
              "      <td>0</td>\n",
              "      <td>0</td>\n",
              "      <td>0</td>\n",
              "      <td>...</td>\n",
              "      <td>0</td>\n",
              "      <td>0</td>\n",
              "      <td>0</td>\n",
              "      <td>0</td>\n",
              "      <td>0</td>\n",
              "      <td>0</td>\n",
              "      <td>0</td>\n",
              "      <td>0</td>\n",
              "      <td>4.57</td>\n",
              "      <td>2095690</td>\n",
              "    </tr>\n",
              "    <tr>\n",
              "      <th>1</th>\n",
              "      <td>0</td>\n",
              "      <td>0</td>\n",
              "      <td>0</td>\n",
              "      <td>0</td>\n",
              "      <td>1</td>\n",
              "      <td>0</td>\n",
              "      <td>0</td>\n",
              "      <td>0</td>\n",
              "      <td>0</td>\n",
              "      <td>0</td>\n",
              "      <td>...</td>\n",
              "      <td>0</td>\n",
              "      <td>0</td>\n",
              "      <td>0</td>\n",
              "      <td>0</td>\n",
              "      <td>0</td>\n",
              "      <td>0</td>\n",
              "      <td>0</td>\n",
              "      <td>0</td>\n",
              "      <td>4.49</td>\n",
              "      <td>2153167</td>\n",
              "    </tr>\n",
              "    <tr>\n",
              "      <th>2</th>\n",
              "      <td>0</td>\n",
              "      <td>0</td>\n",
              "      <td>0</td>\n",
              "      <td>0</td>\n",
              "      <td>1</td>\n",
              "      <td>0</td>\n",
              "      <td>0</td>\n",
              "      <td>0</td>\n",
              "      <td>0</td>\n",
              "      <td>0</td>\n",
              "      <td>...</td>\n",
              "      <td>0</td>\n",
              "      <td>0</td>\n",
              "      <td>0</td>\n",
              "      <td>0</td>\n",
              "      <td>0</td>\n",
              "      <td>0</td>\n",
              "      <td>0</td>\n",
              "      <td>0</td>\n",
              "      <td>4.42</td>\n",
              "      <td>6333</td>\n",
              "    </tr>\n",
              "    <tr>\n",
              "      <th>3</th>\n",
              "      <td>0</td>\n",
              "      <td>0</td>\n",
              "      <td>0</td>\n",
              "      <td>0</td>\n",
              "      <td>1</td>\n",
              "      <td>0</td>\n",
              "      <td>0</td>\n",
              "      <td>0</td>\n",
              "      <td>0</td>\n",
              "      <td>0</td>\n",
              "      <td>...</td>\n",
              "      <td>0</td>\n",
              "      <td>0</td>\n",
              "      <td>0</td>\n",
              "      <td>0</td>\n",
              "      <td>0</td>\n",
              "      <td>0</td>\n",
              "      <td>0</td>\n",
              "      <td>0</td>\n",
              "      <td>4.56</td>\n",
              "      <td>2339585</td>\n",
              "    </tr>\n",
              "    <tr>\n",
              "      <th>4</th>\n",
              "      <td>0</td>\n",
              "      <td>0</td>\n",
              "      <td>0</td>\n",
              "      <td>0</td>\n",
              "      <td>1</td>\n",
              "      <td>0</td>\n",
              "      <td>0</td>\n",
              "      <td>0</td>\n",
              "      <td>0</td>\n",
              "      <td>0</td>\n",
              "      <td>...</td>\n",
              "      <td>0</td>\n",
              "      <td>0</td>\n",
              "      <td>0</td>\n",
              "      <td>0</td>\n",
              "      <td>0</td>\n",
              "      <td>0</td>\n",
              "      <td>0</td>\n",
              "      <td>0</td>\n",
              "      <td>4.78</td>\n",
              "      <td>41428</td>\n",
              "    </tr>\n",
              "  </tbody>\n",
              "</table>\n",
              "<p>5 rows × 34 columns</p>\n",
              "</div>\n",
              "      <button class=\"colab-df-convert\" onclick=\"convertToInteractive('df-bebaa62c-6566-430a-93f2-ab2fc3ba8a6b')\"\n",
              "              title=\"Convert this dataframe to an interactive table.\"\n",
              "              style=\"display:none;\">\n",
              "        \n",
              "  <svg xmlns=\"http://www.w3.org/2000/svg\" height=\"24px\"viewBox=\"0 0 24 24\"\n",
              "       width=\"24px\">\n",
              "    <path d=\"M0 0h24v24H0V0z\" fill=\"none\"/>\n",
              "    <path d=\"M18.56 5.44l.94 2.06.94-2.06 2.06-.94-2.06-.94-.94-2.06-.94 2.06-2.06.94zm-11 1L8.5 8.5l.94-2.06 2.06-.94-2.06-.94L8.5 2.5l-.94 2.06-2.06.94zm10 10l.94 2.06.94-2.06 2.06-.94-2.06-.94-.94-2.06-.94 2.06-2.06.94z\"/><path d=\"M17.41 7.96l-1.37-1.37c-.4-.4-.92-.59-1.43-.59-.52 0-1.04.2-1.43.59L10.3 9.45l-7.72 7.72c-.78.78-.78 2.05 0 2.83L4 21.41c.39.39.9.59 1.41.59.51 0 1.02-.2 1.41-.59l7.78-7.78 2.81-2.81c.8-.78.8-2.07 0-2.86zM5.41 20L4 18.59l7.72-7.72 1.47 1.35L5.41 20z\"/>\n",
              "  </svg>\n",
              "      </button>\n",
              "      \n",
              "  <style>\n",
              "    .colab-df-container {\n",
              "      display:flex;\n",
              "      flex-wrap:wrap;\n",
              "      gap: 12px;\n",
              "    }\n",
              "\n",
              "    .colab-df-convert {\n",
              "      background-color: #E8F0FE;\n",
              "      border: none;\n",
              "      border-radius: 50%;\n",
              "      cursor: pointer;\n",
              "      display: none;\n",
              "      fill: #1967D2;\n",
              "      height: 32px;\n",
              "      padding: 0 0 0 0;\n",
              "      width: 32px;\n",
              "    }\n",
              "\n",
              "    .colab-df-convert:hover {\n",
              "      background-color: #E2EBFA;\n",
              "      box-shadow: 0px 1px 2px rgba(60, 64, 67, 0.3), 0px 1px 3px 1px rgba(60, 64, 67, 0.15);\n",
              "      fill: #174EA6;\n",
              "    }\n",
              "\n",
              "    [theme=dark] .colab-df-convert {\n",
              "      background-color: #3B4455;\n",
              "      fill: #D2E3FC;\n",
              "    }\n",
              "\n",
              "    [theme=dark] .colab-df-convert:hover {\n",
              "      background-color: #434B5C;\n",
              "      box-shadow: 0px 1px 3px 1px rgba(0, 0, 0, 0.15);\n",
              "      filter: drop-shadow(0px 1px 2px rgba(0, 0, 0, 0.3));\n",
              "      fill: #FFFFFF;\n",
              "    }\n",
              "  </style>\n",
              "\n",
              "      <script>\n",
              "        const buttonEl =\n",
              "          document.querySelector('#df-bebaa62c-6566-430a-93f2-ab2fc3ba8a6b button.colab-df-convert');\n",
              "        buttonEl.style.display =\n",
              "          google.colab.kernel.accessAllowed ? 'block' : 'none';\n",
              "\n",
              "        async function convertToInteractive(key) {\n",
              "          const element = document.querySelector('#df-bebaa62c-6566-430a-93f2-ab2fc3ba8a6b');\n",
              "          const dataTable =\n",
              "            await google.colab.kernel.invokeFunction('convertToInteractive',\n",
              "                                                     [key], {});\n",
              "          if (!dataTable) return;\n",
              "\n",
              "          const docLinkHtml = 'Like what you see? Visit the ' +\n",
              "            '<a target=\"_blank\" href=https://colab.research.google.com/notebooks/data_table.ipynb>data table notebook</a>'\n",
              "            + ' to learn more about interactive tables.';\n",
              "          element.innerHTML = '';\n",
              "          dataTable['output_type'] = 'display_data';\n",
              "          await google.colab.output.renderOutput(dataTable, element);\n",
              "          const docLink = document.createElement('div');\n",
              "          docLink.innerHTML = docLinkHtml;\n",
              "          element.appendChild(docLink);\n",
              "        }\n",
              "      </script>\n",
              "    </div>\n",
              "  </div>\n",
              "  "
            ],
            "text/plain": [
              "   between 0 and 1  between 1 and 2  between 2 and 3  between 3 and 4  \\\n",
              "0                0                0                0                0   \n",
              "1                0                0                0                0   \n",
              "2                0                0                0                0   \n",
              "3                0                0                0                0   \n",
              "4                0                0                0                0   \n",
              "\n",
              "   between 4 and 5  Afro-Asiatic  Arabic  British-English  Canada-English  \\\n",
              "0                1             0       0                0               0   \n",
              "1                1             0       0                0               0   \n",
              "2                1             0       0                0               0   \n",
              "3                1             0       0                0               0   \n",
              "4                1             0       0                0               0   \n",
              "\n",
              "   Chinese  ...  Portuguese  Russian  Serbian  Spanish  Swedish  Turkish  \\\n",
              "0        0  ...           0        0        0        0        0        0   \n",
              "1        0  ...           0        0        0        0        0        0   \n",
              "2        0  ...           0        0        0        0        0        0   \n",
              "3        0  ...           0        0        0        0        0        0   \n",
              "4        0  ...           0        0        0        0        0        0   \n",
              "\n",
              "   US-English  Welsh  average_rating  ratings_count  \n",
              "0           0      0            4.57        2095690  \n",
              "1           0      0            4.49        2153167  \n",
              "2           0      0            4.42           6333  \n",
              "3           0      0            4.56        2339585  \n",
              "4           0      0            4.78          41428  \n",
              "\n",
              "[5 rows x 34 columns]"
            ]
          },
          "execution_count": 34,
          "metadata": {},
          "output_type": "execute_result"
        }
      ],
      "source": [
        "features = pd.concat([books_rating, books_language, books['average_rating'], books['ratings_count']], axis=1)\n",
        "features.head()"
      ]
    },
    {
      "cell_type": "markdown",
      "metadata": {
        "id": "Xmh9UoaRqQPI"
      },
      "source": [
        "Kemudian kita akan membuat dataframe baru dengan menggabungkan beberapa data seperti books_rating, books_language, average_rating, dan ratings_count sehingga pada tahap pemodelan dataset kita sudah siap digunakan dan dimasukkan ke sistem rekomendasi."
      ]
    },
    {
      "cell_type": "markdown",
      "metadata": {
        "id": "SpSzrY3dqQPI"
      },
      "source": [
        "## Model Development Using Content Based Filtering\n",
        "Untuk proyek kali ini, akan digunakan content based filtering pada sistem rekomendasinya. Content based akan memberikan rekomendasi buku berdasarkan rating yang telah diberikan sebelumnya untuk suatu buku. Dari data rating buku, kita akan mengidentifikasi buku-buku yang mirip dengan menggunakan algoritma K-Nearest Neighbor (KNN) untuk direkomendasikan ke pengguna. KNN adalah algoritma yang relatif sederhana dibandingkan dengan algoritma lain. Algoritma KNN menggunakan 'kesamaan fitur' untuk memprediksi nilai dari setiap data yang baru. Dengan kata lain, setiap data baru diberi nilai berdasarkan seberapa mirip titik tersebut dalam set pelatihan.KNN bekerja dengan membandingkan jarak satu sampel ke sampel pelatihan lain dengan memilih sejumlah k tetangga terdekat (dengan k adalah sebuah angka positif). Nah, itulah mengapa algoritma ini dinamakan K-nearest neighbor (sejumlah k tetangga terdekat). KNN bisa digunakan untuk kasus klasifikasi dan regresi. Pada kali ini, kita akan menggunakannya untuk membuat sebuah sistem rekomendasi."
      ]
    },
    {
      "cell_type": "code",
      "execution_count": 35,
      "metadata": {
        "id": "Vz11xJuQqQPJ"
      },
      "outputs": [],
      "source": [
        "min_max_scaler = MinMaxScaler()\n",
        "features = min_max_scaler.fit_transform(features)"
      ]
    },
    {
      "cell_type": "markdown",
      "metadata": {
        "id": "6kI-H7xcqQPJ"
      },
      "source": [
        "Pertama-tama kita perlu melakukan penskalaan pada dataset kita untuk mengurangi bias karena beberapa buku memiliki banyak fitur. Secara garis besar kita mencari nilai tengah dari fitur-fitur tersebut untuk kemudian disamaratakan."
      ]
    },
    {
      "cell_type": "code",
      "execution_count": 36,
      "metadata": {
        "colab": {
          "base_uri": "https://localhost:8080/"
        },
        "id": "HmB3jWZ-qQPJ",
        "outputId": "59022751-4dd8-440b-fc88-9848bb890d2f"
      },
      "outputs": [
        {
          "data": {
            "text/plain": [
              "array([[0.00000000e+00, 0.00000000e+00, 0.00000000e+00, ...,\n",
              "        0.00000000e+00, 9.14000000e-01, 4.55816060e-01],\n",
              "       [0.00000000e+00, 0.00000000e+00, 0.00000000e+00, ...,\n",
              "        0.00000000e+00, 8.98000000e-01, 4.68317403e-01],\n",
              "       [0.00000000e+00, 0.00000000e+00, 0.00000000e+00, ...,\n",
              "        0.00000000e+00, 8.84000000e-01, 1.37743803e-03],\n",
              "       ...,\n",
              "       [0.00000000e+00, 0.00000000e+00, 0.00000000e+00, ...,\n",
              "        0.00000000e+00, 7.92000000e-01, 1.78351363e-04],\n",
              "       [0.00000000e+00, 0.00000000e+00, 0.00000000e+00, ...,\n",
              "        0.00000000e+00, 7.44000000e-01, 1.67258779e-04],\n",
              "       [0.00000000e+00, 0.00000000e+00, 0.00000000e+00, ...,\n",
              "        0.00000000e+00, 7.82000000e-01, 2.45776879e-05]])"
            ]
          },
          "execution_count": 36,
          "metadata": {},
          "output_type": "execute_result"
        }
      ],
      "source": [
        "features"
      ]
    },
    {
      "cell_type": "code",
      "execution_count": 37,
      "metadata": {
        "id": "jPg4wNH5qQPJ"
      },
      "outputs": [],
      "source": [
        "model = neighbors.NearestNeighbors(n_neighbors=11)\n",
        "model.fit(features)\n",
        "books_dist, books_idlist = model.kneighbors(features)"
      ]
    },
    {
      "cell_type": "markdown",
      "metadata": {
        "id": "RpA6vDJuqQPJ"
      },
      "source": [
        "Selanjutnya kita akan memasukkan data ke dalam model KNN dengan parameter n_neighbors=11 yang berarti kita akan mengambil 10 buku teratas yang memiliki kemiripan untuk direkomendasikan kepada pengguna. Mengapa 11? karena buku pertama akan mengarah ke buku itu sendiri, oleh karena itu untuk mengambil 10 buku teratas kita akan melewati 1 buku pertama dan menyimpan 10 buku setelahnya dengan menggunakan nilai 11 pada parameter n_neighbors."
      ]
    },
    {
      "cell_type": "code",
      "execution_count": 38,
      "metadata": {
        "id": "C7emehdoqQPJ"
      },
      "outputs": [],
      "source": [
        "def BookRecommender(book_name):\n",
        "    book_list_name = []\n",
        "    book_features = []\n",
        "    book_id = books[books['title'] == book_name].index\n",
        "    book_id = book_id[0]\n",
        "    for newid in books_idlist[book_id]:\n",
        "        book_list_name.append(books.loc[newid].title)\n",
        "        book_features.append(books_dist[newid])\n",
        "    return book_list_name, book_features"
      ]
    },
    {
      "cell_type": "markdown",
      "metadata": {
        "id": "VnIlxikCqQPJ"
      },
      "source": [
        "Selanjutnya kita membuat sebuah function yang berfungsi untuk melakukan filtering terhadap buku yang akan direkomendasikan dengan parameter function yaitu judul buku. Dari judul buku tersebut kemudian akan dicari buku lain yang memiliki kemiripan dengan menggunakan model KNN yang telah dibuat sebelumnya. Function ini akan me-return list dengan isi judul-judul buku yang memiliki fitur mirip dengan judul buku yang dimasukkan."
      ]
    },
    {
      "cell_type": "code",
      "execution_count": 39,
      "metadata": {
        "colab": {
          "base_uri": "https://localhost:8080/"
        },
        "id": "waqMk8s9qQPJ",
        "outputId": "96b29f6c-d67b-49ca-c02c-2bb89d4889a9"
      },
      "outputs": [
        {
          "data": {
            "text/plain": [
              "['The Giver (The Giver  #1)',\n",
              " 'Jane Eyre',\n",
              " 'The Lightning Thief (Percy Jackson and the Olympians  #1)',\n",
              " 'Little Women',\n",
              " \"Charlotte's Web\",\n",
              " 'Memoirs of a Geisha',\n",
              " 'Water for Elephants',\n",
              " 'The Notebook (The Notebook  #1)',\n",
              " 'Gone with the Wind',\n",
              " 'The Shining']"
            ]
          },
          "execution_count": 39,
          "metadata": {},
          "output_type": "execute_result"
        }
      ],
      "source": [
        "books_recommendation, books_features = BookRecommender('The Book Thief')\n",
        "books_recommendation[1:]"
      ]
    },
    {
      "cell_type": "code",
      "execution_count": 40,
      "metadata": {
        "colab": {
          "base_uri": "https://localhost:8080/"
        },
        "id": "Sq9ssw86qQPK",
        "outputId": "3e31e914-2907-46d2-d08b-f2fa0f7cb180"
      },
      "outputs": [
        {
          "data": {
            "text/plain": [
              "[array([0.        , 0.05030587, 0.05515068, 0.05950765, 0.06052693,\n",
              "        0.06168508, 0.06997532, 0.07902247, 0.10822001, 0.11363005,\n",
              "        0.12076493]),\n",
              " array([0.        , 0.02596455, 0.03838029, 0.04613192, 0.05030587,\n",
              "        0.06200967, 0.06252774, 0.07126076, 0.1079571 , 0.11872191,\n",
              "        0.12681742]),\n",
              " array([0.        , 0.01828063, 0.02363715, 0.02571017, 0.03303164,\n",
              "        0.03838029, 0.05515068, 0.06959127, 0.08053684, 0.08195887,\n",
              "        0.08923707]),\n",
              " array([0.        , 0.04613192, 0.05950765, 0.07205952, 0.0817973 ,\n",
              "        0.08195887, 0.09599721, 0.09679205, 0.10266567, 0.10507719,\n",
              "        0.11475943]),\n",
              " array([0.        , 0.01828063, 0.02596455, 0.03967039, 0.04381916,\n",
              "        0.04795224, 0.06052693, 0.07205952, 0.08472959, 0.09469817,\n",
              "        0.10397797]),\n",
              " array([0.        , 0.01200074, 0.01825861, 0.02571017, 0.04381916,\n",
              "        0.04836937, 0.06058165, 0.06168508, 0.06252774, 0.06799711,\n",
              "        0.06979607]),\n",
              " array([0.        , 0.0097847 , 0.01200074, 0.02363715, 0.03967039,\n",
              "        0.04595417, 0.05703496, 0.06200967, 0.06561215, 0.06884284,\n",
              "        0.06997532]),\n",
              " array([0.        , 0.0097847 , 0.01825861, 0.03303164, 0.03685   ,\n",
              "        0.04750697, 0.04795224, 0.05633505, 0.05958111, 0.0665169 ,\n",
              "        0.06942502]),\n",
              " array([0.        , 0.0127895 , 0.01975212, 0.02294799, 0.03563902,\n",
              "        0.03685   , 0.04467386, 0.04595417, 0.04836937, 0.06959127,\n",
              "        0.07110996]),\n",
              " array([0.        , 0.01469976, 0.04162302, 0.04400345, 0.04408295,\n",
              "        0.04467386, 0.04901334, 0.06030455, 0.06454318, 0.06673206,\n",
              "        0.06942502]),\n",
              " array([0.        , 0.01469976, 0.03005266, 0.03041911, 0.03563902,\n",
              "        0.03692231, 0.03827827, 0.04998597, 0.05503148, 0.06031519,\n",
              "        0.06640837])]"
            ]
          },
          "execution_count": 40,
          "metadata": {},
          "output_type": "execute_result"
        }
      ],
      "source": [
        "books_features"
      ]
    },
    {
      "cell_type": "markdown",
      "metadata": {
        "id": "81X5CtpxqQPK"
      },
      "source": [
        "Berdasarkan output di atas, sistem kita telah berhasil merekomendasikan buku yang memiliki kemiripan dengan judul buku yang kita masukkan sebagai parameter pada function BookRecommender. Lalu kita juga berhasil mendapatkan vektor dari buku-buku yang mirip untuk digunakan nanti pada tahap evaluasi."
      ]
    },
    {
      "cell_type": "markdown",
      "metadata": {
        "id": "D3y_Tc0yqQPK"
      },
      "source": [
        "## Model Evaluation"
      ]
    },
    {
      "cell_type": "markdown",
      "metadata": {
        "id": "Z_-zqlKbqQPK"
      },
      "source": [
        "Pada tahap evaluasi ini kita akan melakukan pengujian menggunakan cosine similarity. Cosine similarity membantu kita untuk melihat kemiripan antara buku yang yang satu dengan yang lain menggunakan features yang sebelumnya kita dapatkan. Dengan menggunakan cosine similarity kita akan mengetahui sudut cosine yang dibentuk dengan cara menghitung angle yang diberikan dari dua buah vector items. Nantinya hasil perhitungan tersebut akan memperlihatkan nilai antara 0-1. Semakin dekat nilai dengan angka 0 maka semakin sedikit kemiripan antara dua buah items tersebut, sebaliknya semakin dekat dengan 1 berarti items tersebut memiliki kemiripan features. Output akan bernilai 1 apabila sebuah item dibandingkan dengan item itu sendiri."
      ]
    },
    {
      "cell_type": "code",
      "execution_count": 41,
      "metadata": {
        "colab": {
          "base_uri": "https://localhost:8080/",
          "height": 394
        },
        "id": "rz28X84lqQPK",
        "outputId": "a9d9beed-7489-4d75-f088-1d24fd57ce02"
      },
      "outputs": [
        {
          "data": {
            "text/html": [
              "\n",
              "  <div id=\"df-3f01e263-fef9-47ff-a35a-4b40ff18bb0f\">\n",
              "    <div class=\"colab-df-container\">\n",
              "      <div>\n",
              "<style scoped>\n",
              "    .dataframe tbody tr th:only-of-type {\n",
              "        vertical-align: middle;\n",
              "    }\n",
              "\n",
              "    .dataframe tbody tr th {\n",
              "        vertical-align: top;\n",
              "    }\n",
              "\n",
              "    .dataframe thead th {\n",
              "        text-align: right;\n",
              "    }\n",
              "</style>\n",
              "<table border=\"1\" class=\"dataframe\">\n",
              "  <thead>\n",
              "    <tr style=\"text-align: right;\">\n",
              "      <th></th>\n",
              "      <th>Books_Title</th>\n",
              "    </tr>\n",
              "  </thead>\n",
              "  <tbody>\n",
              "    <tr>\n",
              "      <th>0</th>\n",
              "      <td>The Book Thief</td>\n",
              "    </tr>\n",
              "    <tr>\n",
              "      <th>1</th>\n",
              "      <td>The Giver (The Giver  #1)</td>\n",
              "    </tr>\n",
              "    <tr>\n",
              "      <th>2</th>\n",
              "      <td>Jane Eyre</td>\n",
              "    </tr>\n",
              "    <tr>\n",
              "      <th>3</th>\n",
              "      <td>The Lightning Thief (Percy Jackson and the Oly...</td>\n",
              "    </tr>\n",
              "    <tr>\n",
              "      <th>4</th>\n",
              "      <td>Little Women</td>\n",
              "    </tr>\n",
              "    <tr>\n",
              "      <th>5</th>\n",
              "      <td>Charlotte's Web</td>\n",
              "    </tr>\n",
              "    <tr>\n",
              "      <th>6</th>\n",
              "      <td>Memoirs of a Geisha</td>\n",
              "    </tr>\n",
              "    <tr>\n",
              "      <th>7</th>\n",
              "      <td>Water for Elephants</td>\n",
              "    </tr>\n",
              "    <tr>\n",
              "      <th>8</th>\n",
              "      <td>The Notebook (The Notebook  #1)</td>\n",
              "    </tr>\n",
              "    <tr>\n",
              "      <th>9</th>\n",
              "      <td>Gone with the Wind</td>\n",
              "    </tr>\n",
              "    <tr>\n",
              "      <th>10</th>\n",
              "      <td>The Shining</td>\n",
              "    </tr>\n",
              "  </tbody>\n",
              "</table>\n",
              "</div>\n",
              "      <button class=\"colab-df-convert\" onclick=\"convertToInteractive('df-3f01e263-fef9-47ff-a35a-4b40ff18bb0f')\"\n",
              "              title=\"Convert this dataframe to an interactive table.\"\n",
              "              style=\"display:none;\">\n",
              "        \n",
              "  <svg xmlns=\"http://www.w3.org/2000/svg\" height=\"24px\"viewBox=\"0 0 24 24\"\n",
              "       width=\"24px\">\n",
              "    <path d=\"M0 0h24v24H0V0z\" fill=\"none\"/>\n",
              "    <path d=\"M18.56 5.44l.94 2.06.94-2.06 2.06-.94-2.06-.94-.94-2.06-.94 2.06-2.06.94zm-11 1L8.5 8.5l.94-2.06 2.06-.94-2.06-.94L8.5 2.5l-.94 2.06-2.06.94zm10 10l.94 2.06.94-2.06 2.06-.94-2.06-.94-.94-2.06-.94 2.06-2.06.94z\"/><path d=\"M17.41 7.96l-1.37-1.37c-.4-.4-.92-.59-1.43-.59-.52 0-1.04.2-1.43.59L10.3 9.45l-7.72 7.72c-.78.78-.78 2.05 0 2.83L4 21.41c.39.39.9.59 1.41.59.51 0 1.02-.2 1.41-.59l7.78-7.78 2.81-2.81c.8-.78.8-2.07 0-2.86zM5.41 20L4 18.59l7.72-7.72 1.47 1.35L5.41 20z\"/>\n",
              "  </svg>\n",
              "      </button>\n",
              "      \n",
              "  <style>\n",
              "    .colab-df-container {\n",
              "      display:flex;\n",
              "      flex-wrap:wrap;\n",
              "      gap: 12px;\n",
              "    }\n",
              "\n",
              "    .colab-df-convert {\n",
              "      background-color: #E8F0FE;\n",
              "      border: none;\n",
              "      border-radius: 50%;\n",
              "      cursor: pointer;\n",
              "      display: none;\n",
              "      fill: #1967D2;\n",
              "      height: 32px;\n",
              "      padding: 0 0 0 0;\n",
              "      width: 32px;\n",
              "    }\n",
              "\n",
              "    .colab-df-convert:hover {\n",
              "      background-color: #E2EBFA;\n",
              "      box-shadow: 0px 1px 2px rgba(60, 64, 67, 0.3), 0px 1px 3px 1px rgba(60, 64, 67, 0.15);\n",
              "      fill: #174EA6;\n",
              "    }\n",
              "\n",
              "    [theme=dark] .colab-df-convert {\n",
              "      background-color: #3B4455;\n",
              "      fill: #D2E3FC;\n",
              "    }\n",
              "\n",
              "    [theme=dark] .colab-df-convert:hover {\n",
              "      background-color: #434B5C;\n",
              "      box-shadow: 0px 1px 3px 1px rgba(0, 0, 0, 0.15);\n",
              "      filter: drop-shadow(0px 1px 2px rgba(0, 0, 0, 0.3));\n",
              "      fill: #FFFFFF;\n",
              "    }\n",
              "  </style>\n",
              "\n",
              "      <script>\n",
              "        const buttonEl =\n",
              "          document.querySelector('#df-3f01e263-fef9-47ff-a35a-4b40ff18bb0f button.colab-df-convert');\n",
              "        buttonEl.style.display =\n",
              "          google.colab.kernel.accessAllowed ? 'block' : 'none';\n",
              "\n",
              "        async function convertToInteractive(key) {\n",
              "          const element = document.querySelector('#df-3f01e263-fef9-47ff-a35a-4b40ff18bb0f');\n",
              "          const dataTable =\n",
              "            await google.colab.kernel.invokeFunction('convertToInteractive',\n",
              "                                                     [key], {});\n",
              "          if (!dataTable) return;\n",
              "\n",
              "          const docLinkHtml = 'Like what you see? Visit the ' +\n",
              "            '<a target=\"_blank\" href=https://colab.research.google.com/notebooks/data_table.ipynb>data table notebook</a>'\n",
              "            + ' to learn more about interactive tables.';\n",
              "          element.innerHTML = '';\n",
              "          dataTable['output_type'] = 'display_data';\n",
              "          await google.colab.output.renderOutput(dataTable, element);\n",
              "          const docLink = document.createElement('div');\n",
              "          docLink.innerHTML = docLinkHtml;\n",
              "          element.appendChild(docLink);\n",
              "        }\n",
              "      </script>\n",
              "    </div>\n",
              "  </div>\n",
              "  "
            ],
            "text/plain": [
              "                                          Books_Title\n",
              "0                                      The Book Thief\n",
              "1                           The Giver (The Giver  #1)\n",
              "2                                           Jane Eyre\n",
              "3   The Lightning Thief (Percy Jackson and the Oly...\n",
              "4                                        Little Women\n",
              "5                                     Charlotte's Web\n",
              "6                                 Memoirs of a Geisha\n",
              "7                                 Water for Elephants\n",
              "8                     The Notebook (The Notebook  #1)\n",
              "9                                  Gone with the Wind\n",
              "10                                        The Shining"
            ]
          },
          "execution_count": 41,
          "metadata": {},
          "output_type": "execute_result"
        }
      ],
      "source": [
        "index_values = ['0', '1', '2', '3', '4', '5', '6', '7', '8', '9', '10']\n",
        "column_values = ['Books_Title']\n",
        "\n",
        "books_rec = pd.DataFrame(data=books_recommendation, index=index_values, columns=column_values)\n",
        "books_rec"
      ]
    },
    {
      "cell_type": "markdown",
      "metadata": {
        "id": "nI5vfSl9qQPK"
      },
      "source": [
        "Pertama-tama kita membuat sebuah dataframe yang berisikan judul buku dan feature yang dimilikinya untuk mempermudah melihat data apa saja yang ada."
      ]
    },
    {
      "cell_type": "code",
      "execution_count": 42,
      "metadata": {
        "colab": {
          "base_uri": "https://localhost:8080/",
          "height": 394
        },
        "id": "19prA0IPqQPK",
        "outputId": "b2958525-65e7-4c13-c3b7-a32cfe905e36"
      },
      "outputs": [
        {
          "data": {
            "text/html": [
              "\n",
              "  <div id=\"df-3e847761-c127-4309-8d5f-e2d5e62b98f7\">\n",
              "    <div class=\"colab-df-container\">\n",
              "      <div>\n",
              "<style scoped>\n",
              "    .dataframe tbody tr th:only-of-type {\n",
              "        vertical-align: middle;\n",
              "    }\n",
              "\n",
              "    .dataframe tbody tr th {\n",
              "        vertical-align: top;\n",
              "    }\n",
              "\n",
              "    .dataframe thead th {\n",
              "        text-align: right;\n",
              "    }\n",
              "</style>\n",
              "<table border=\"1\" class=\"dataframe\">\n",
              "  <thead>\n",
              "    <tr style=\"text-align: right;\">\n",
              "      <th></th>\n",
              "      <th>Books_Title</th>\n",
              "      <th>Features</th>\n",
              "    </tr>\n",
              "  </thead>\n",
              "  <tbody>\n",
              "    <tr>\n",
              "      <th>0</th>\n",
              "      <td>The Book Thief</td>\n",
              "      <td>[0.0, 0.05030586574040771, 0.05515067805889528...</td>\n",
              "    </tr>\n",
              "    <tr>\n",
              "      <th>1</th>\n",
              "      <td>The Giver (The Giver  #1)</td>\n",
              "      <td>[0.0, 0.0259645535362346, 0.03838028852495473,...</td>\n",
              "    </tr>\n",
              "    <tr>\n",
              "      <th>2</th>\n",
              "      <td>Jane Eyre</td>\n",
              "      <td>[0.0, 0.01828062520337142, 0.02363714961494453...</td>\n",
              "    </tr>\n",
              "    <tr>\n",
              "      <th>3</th>\n",
              "      <td>The Lightning Thief (Percy Jackson and the Oly...</td>\n",
              "      <td>[0.0, 0.04613191568604905, 0.05950764525528697...</td>\n",
              "    </tr>\n",
              "    <tr>\n",
              "      <th>4</th>\n",
              "      <td>Little Women</td>\n",
              "      <td>[0.0, 0.01828062520337142, 0.0259645535362346,...</td>\n",
              "    </tr>\n",
              "    <tr>\n",
              "      <th>5</th>\n",
              "      <td>Charlotte's Web</td>\n",
              "      <td>[0.0, 0.012000740664382115, 0.0182586144160484...</td>\n",
              "    </tr>\n",
              "    <tr>\n",
              "      <th>6</th>\n",
              "      <td>Memoirs of a Geisha</td>\n",
              "      <td>[0.0, 0.009784702556960338, 0.0120007406643821...</td>\n",
              "    </tr>\n",
              "    <tr>\n",
              "      <th>7</th>\n",
              "      <td>Water for Elephants</td>\n",
              "      <td>[0.0, 0.009784702556960338, 0.0182586144160484...</td>\n",
              "    </tr>\n",
              "    <tr>\n",
              "      <th>8</th>\n",
              "      <td>The Notebook (The Notebook  #1)</td>\n",
              "      <td>[0.0, 0.01278949905961208, 0.01975211762866636...</td>\n",
              "    </tr>\n",
              "    <tr>\n",
              "      <th>9</th>\n",
              "      <td>Gone with the Wind</td>\n",
              "      <td>[0.0, 0.01469976136352012, 0.04162301640874411...</td>\n",
              "    </tr>\n",
              "    <tr>\n",
              "      <th>10</th>\n",
              "      <td>The Shining</td>\n",
              "      <td>[0.0, 0.01469976136352012, 0.03005265925190400...</td>\n",
              "    </tr>\n",
              "  </tbody>\n",
              "</table>\n",
              "</div>\n",
              "      <button class=\"colab-df-convert\" onclick=\"convertToInteractive('df-3e847761-c127-4309-8d5f-e2d5e62b98f7')\"\n",
              "              title=\"Convert this dataframe to an interactive table.\"\n",
              "              style=\"display:none;\">\n",
              "        \n",
              "  <svg xmlns=\"http://www.w3.org/2000/svg\" height=\"24px\"viewBox=\"0 0 24 24\"\n",
              "       width=\"24px\">\n",
              "    <path d=\"M0 0h24v24H0V0z\" fill=\"none\"/>\n",
              "    <path d=\"M18.56 5.44l.94 2.06.94-2.06 2.06-.94-2.06-.94-.94-2.06-.94 2.06-2.06.94zm-11 1L8.5 8.5l.94-2.06 2.06-.94-2.06-.94L8.5 2.5l-.94 2.06-2.06.94zm10 10l.94 2.06.94-2.06 2.06-.94-2.06-.94-.94-2.06-.94 2.06-2.06.94z\"/><path d=\"M17.41 7.96l-1.37-1.37c-.4-.4-.92-.59-1.43-.59-.52 0-1.04.2-1.43.59L10.3 9.45l-7.72 7.72c-.78.78-.78 2.05 0 2.83L4 21.41c.39.39.9.59 1.41.59.51 0 1.02-.2 1.41-.59l7.78-7.78 2.81-2.81c.8-.78.8-2.07 0-2.86zM5.41 20L4 18.59l7.72-7.72 1.47 1.35L5.41 20z\"/>\n",
              "  </svg>\n",
              "      </button>\n",
              "      \n",
              "  <style>\n",
              "    .colab-df-container {\n",
              "      display:flex;\n",
              "      flex-wrap:wrap;\n",
              "      gap: 12px;\n",
              "    }\n",
              "\n",
              "    .colab-df-convert {\n",
              "      background-color: #E8F0FE;\n",
              "      border: none;\n",
              "      border-radius: 50%;\n",
              "      cursor: pointer;\n",
              "      display: none;\n",
              "      fill: #1967D2;\n",
              "      height: 32px;\n",
              "      padding: 0 0 0 0;\n",
              "      width: 32px;\n",
              "    }\n",
              "\n",
              "    .colab-df-convert:hover {\n",
              "      background-color: #E2EBFA;\n",
              "      box-shadow: 0px 1px 2px rgba(60, 64, 67, 0.3), 0px 1px 3px 1px rgba(60, 64, 67, 0.15);\n",
              "      fill: #174EA6;\n",
              "    }\n",
              "\n",
              "    [theme=dark] .colab-df-convert {\n",
              "      background-color: #3B4455;\n",
              "      fill: #D2E3FC;\n",
              "    }\n",
              "\n",
              "    [theme=dark] .colab-df-convert:hover {\n",
              "      background-color: #434B5C;\n",
              "      box-shadow: 0px 1px 3px 1px rgba(0, 0, 0, 0.15);\n",
              "      filter: drop-shadow(0px 1px 2px rgba(0, 0, 0, 0.3));\n",
              "      fill: #FFFFFF;\n",
              "    }\n",
              "  </style>\n",
              "\n",
              "      <script>\n",
              "        const buttonEl =\n",
              "          document.querySelector('#df-3e847761-c127-4309-8d5f-e2d5e62b98f7 button.colab-df-convert');\n",
              "        buttonEl.style.display =\n",
              "          google.colab.kernel.accessAllowed ? 'block' : 'none';\n",
              "\n",
              "        async function convertToInteractive(key) {\n",
              "          const element = document.querySelector('#df-3e847761-c127-4309-8d5f-e2d5e62b98f7');\n",
              "          const dataTable =\n",
              "            await google.colab.kernel.invokeFunction('convertToInteractive',\n",
              "                                                     [key], {});\n",
              "          if (!dataTable) return;\n",
              "\n",
              "          const docLinkHtml = 'Like what you see? Visit the ' +\n",
              "            '<a target=\"_blank\" href=https://colab.research.google.com/notebooks/data_table.ipynb>data table notebook</a>'\n",
              "            + ' to learn more about interactive tables.';\n",
              "          element.innerHTML = '';\n",
              "          dataTable['output_type'] = 'display_data';\n",
              "          await google.colab.output.renderOutput(dataTable, element);\n",
              "          const docLink = document.createElement('div');\n",
              "          docLink.innerHTML = docLinkHtml;\n",
              "          element.appendChild(docLink);\n",
              "        }\n",
              "      </script>\n",
              "    </div>\n",
              "  </div>\n",
              "  "
            ],
            "text/plain": [
              "                                          Books_Title  \\\n",
              "0                                      The Book Thief   \n",
              "1                           The Giver (The Giver  #1)   \n",
              "2                                           Jane Eyre   \n",
              "3   The Lightning Thief (Percy Jackson and the Oly...   \n",
              "4                                        Little Women   \n",
              "5                                     Charlotte's Web   \n",
              "6                                 Memoirs of a Geisha   \n",
              "7                                 Water for Elephants   \n",
              "8                     The Notebook (The Notebook  #1)   \n",
              "9                                  Gone with the Wind   \n",
              "10                                        The Shining   \n",
              "\n",
              "                                             Features  \n",
              "0   [0.0, 0.05030586574040771, 0.05515067805889528...  \n",
              "1   [0.0, 0.0259645535362346, 0.03838028852495473,...  \n",
              "2   [0.0, 0.01828062520337142, 0.02363714961494453...  \n",
              "3   [0.0, 0.04613191568604905, 0.05950764525528697...  \n",
              "4   [0.0, 0.01828062520337142, 0.0259645535362346,...  \n",
              "5   [0.0, 0.012000740664382115, 0.0182586144160484...  \n",
              "6   [0.0, 0.009784702556960338, 0.0120007406643821...  \n",
              "7   [0.0, 0.009784702556960338, 0.0182586144160484...  \n",
              "8   [0.0, 0.01278949905961208, 0.01975211762866636...  \n",
              "9   [0.0, 0.01469976136352012, 0.04162301640874411...  \n",
              "10  [0.0, 0.01469976136352012, 0.03005265925190400...  "
            ]
          },
          "execution_count": 42,
          "metadata": {},
          "output_type": "execute_result"
        }
      ],
      "source": [
        "books_rec['Features'] = books_features\n",
        "books_rec"
      ]
    },
    {
      "cell_type": "code",
      "execution_count": 43,
      "metadata": {
        "colab": {
          "base_uri": "https://localhost:8080/"
        },
        "id": "VuyksIfpqQPK",
        "outputId": "4dd5d3a2-5651-4d88-e53b-3c236a299b81"
      },
      "outputs": [
        {
          "name": "stdout",
          "output_type": "stream",
          "text": [
            "Cosine Similarity: 1.0\n",
            "Cosine Similarity: 0.9904941863403253\n",
            "Cosine Similarity: 0.9823106543334622\n",
            "Cosine Similarity: 0.9875424357511488\n",
            "Cosine Similarity: 0.9874923792879969\n",
            "Cosine Similarity: 0.9731574586975993\n",
            "Cosine Similarity: 0.9692766027706711\n",
            "Cosine Similarity: 0.9809562248534128\n",
            "Cosine Similarity: 0.9830330583707365\n",
            "Cosine Similarity: 0.987770022668598\n",
            "Cosine Similarity: 0.9936911036772159\n"
          ]
        }
      ],
      "source": [
        "from numpy.linalg import norm\n",
        "\n",
        "cosine_sim = []\n",
        "for features in range(len(books_rec['Features'])):\n",
        "    cosine = np.dot(books_rec['Features'][0], books_rec['Features'][features])/(norm(books_rec['Features'][0])*norm(books_rec['Features'][features]))\n",
        "    cosine_sim.append(cosine)\n",
        "    print(\"Cosine Similarity:\", cosine)"
      ]
    },
    {
      "cell_type": "markdown",
      "metadata": {
        "id": "p3wv0EZfqQPL"
      },
      "source": [
        "Selanjutnya kita menghitung cosine similarity antara buku yang diinputkan dengan buku-buku yang direkomendasikan. Kemudian pada output di atas dapat dilihat bahwa keseluruhan buku-buku yang direkomendasikan memiliki nilai cosine similarity yang hampir mendekati angka 1 yang berarti bahwa buku-buku tersebut sudah relevan dengan buku yang diinputkan."
      ]
    },
    {
      "cell_type": "code",
      "execution_count": 44,
      "metadata": {
        "colab": {
          "base_uri": "https://localhost:8080/",
          "height": 394
        },
        "id": "e8kL5jU-qQPL",
        "outputId": "2d612eb2-63db-47e7-f056-2f8f7b2df563"
      },
      "outputs": [
        {
          "data": {
            "text/html": [
              "\n",
              "  <div id=\"df-1c614889-91d1-46c2-a627-51129d7e92c0\">\n",
              "    <div class=\"colab-df-container\">\n",
              "      <div>\n",
              "<style scoped>\n",
              "    .dataframe tbody tr th:only-of-type {\n",
              "        vertical-align: middle;\n",
              "    }\n",
              "\n",
              "    .dataframe tbody tr th {\n",
              "        vertical-align: top;\n",
              "    }\n",
              "\n",
              "    .dataframe thead th {\n",
              "        text-align: right;\n",
              "    }\n",
              "</style>\n",
              "<table border=\"1\" class=\"dataframe\">\n",
              "  <thead>\n",
              "    <tr style=\"text-align: right;\">\n",
              "      <th></th>\n",
              "      <th>Books_Title</th>\n",
              "      <th>Features</th>\n",
              "      <th>cosine_sim</th>\n",
              "    </tr>\n",
              "  </thead>\n",
              "  <tbody>\n",
              "    <tr>\n",
              "      <th>0</th>\n",
              "      <td>The Book Thief</td>\n",
              "      <td>[0.0, 0.05030586574040771, 0.05515067805889528...</td>\n",
              "      <td>1.000000</td>\n",
              "    </tr>\n",
              "    <tr>\n",
              "      <th>1</th>\n",
              "      <td>The Giver (The Giver  #1)</td>\n",
              "      <td>[0.0, 0.0259645535362346, 0.03838028852495473,...</td>\n",
              "      <td>0.990494</td>\n",
              "    </tr>\n",
              "    <tr>\n",
              "      <th>2</th>\n",
              "      <td>Jane Eyre</td>\n",
              "      <td>[0.0, 0.01828062520337142, 0.02363714961494453...</td>\n",
              "      <td>0.982311</td>\n",
              "    </tr>\n",
              "    <tr>\n",
              "      <th>3</th>\n",
              "      <td>The Lightning Thief (Percy Jackson and the Oly...</td>\n",
              "      <td>[0.0, 0.04613191568604905, 0.05950764525528697...</td>\n",
              "      <td>0.987542</td>\n",
              "    </tr>\n",
              "    <tr>\n",
              "      <th>4</th>\n",
              "      <td>Little Women</td>\n",
              "      <td>[0.0, 0.01828062520337142, 0.0259645535362346,...</td>\n",
              "      <td>0.987492</td>\n",
              "    </tr>\n",
              "    <tr>\n",
              "      <th>5</th>\n",
              "      <td>Charlotte's Web</td>\n",
              "      <td>[0.0, 0.012000740664382115, 0.0182586144160484...</td>\n",
              "      <td>0.973157</td>\n",
              "    </tr>\n",
              "    <tr>\n",
              "      <th>6</th>\n",
              "      <td>Memoirs of a Geisha</td>\n",
              "      <td>[0.0, 0.009784702556960338, 0.0120007406643821...</td>\n",
              "      <td>0.969277</td>\n",
              "    </tr>\n",
              "    <tr>\n",
              "      <th>7</th>\n",
              "      <td>Water for Elephants</td>\n",
              "      <td>[0.0, 0.009784702556960338, 0.0182586144160484...</td>\n",
              "      <td>0.980956</td>\n",
              "    </tr>\n",
              "    <tr>\n",
              "      <th>8</th>\n",
              "      <td>The Notebook (The Notebook  #1)</td>\n",
              "      <td>[0.0, 0.01278949905961208, 0.01975211762866636...</td>\n",
              "      <td>0.983033</td>\n",
              "    </tr>\n",
              "    <tr>\n",
              "      <th>9</th>\n",
              "      <td>Gone with the Wind</td>\n",
              "      <td>[0.0, 0.01469976136352012, 0.04162301640874411...</td>\n",
              "      <td>0.987770</td>\n",
              "    </tr>\n",
              "    <tr>\n",
              "      <th>10</th>\n",
              "      <td>The Shining</td>\n",
              "      <td>[0.0, 0.01469976136352012, 0.03005265925190400...</td>\n",
              "      <td>0.993691</td>\n",
              "    </tr>\n",
              "  </tbody>\n",
              "</table>\n",
              "</div>\n",
              "      <button class=\"colab-df-convert\" onclick=\"convertToInteractive('df-1c614889-91d1-46c2-a627-51129d7e92c0')\"\n",
              "              title=\"Convert this dataframe to an interactive table.\"\n",
              "              style=\"display:none;\">\n",
              "        \n",
              "  <svg xmlns=\"http://www.w3.org/2000/svg\" height=\"24px\"viewBox=\"0 0 24 24\"\n",
              "       width=\"24px\">\n",
              "    <path d=\"M0 0h24v24H0V0z\" fill=\"none\"/>\n",
              "    <path d=\"M18.56 5.44l.94 2.06.94-2.06 2.06-.94-2.06-.94-.94-2.06-.94 2.06-2.06.94zm-11 1L8.5 8.5l.94-2.06 2.06-.94-2.06-.94L8.5 2.5l-.94 2.06-2.06.94zm10 10l.94 2.06.94-2.06 2.06-.94-2.06-.94-.94-2.06-.94 2.06-2.06.94z\"/><path d=\"M17.41 7.96l-1.37-1.37c-.4-.4-.92-.59-1.43-.59-.52 0-1.04.2-1.43.59L10.3 9.45l-7.72 7.72c-.78.78-.78 2.05 0 2.83L4 21.41c.39.39.9.59 1.41.59.51 0 1.02-.2 1.41-.59l7.78-7.78 2.81-2.81c.8-.78.8-2.07 0-2.86zM5.41 20L4 18.59l7.72-7.72 1.47 1.35L5.41 20z\"/>\n",
              "  </svg>\n",
              "      </button>\n",
              "      \n",
              "  <style>\n",
              "    .colab-df-container {\n",
              "      display:flex;\n",
              "      flex-wrap:wrap;\n",
              "      gap: 12px;\n",
              "    }\n",
              "\n",
              "    .colab-df-convert {\n",
              "      background-color: #E8F0FE;\n",
              "      border: none;\n",
              "      border-radius: 50%;\n",
              "      cursor: pointer;\n",
              "      display: none;\n",
              "      fill: #1967D2;\n",
              "      height: 32px;\n",
              "      padding: 0 0 0 0;\n",
              "      width: 32px;\n",
              "    }\n",
              "\n",
              "    .colab-df-convert:hover {\n",
              "      background-color: #E2EBFA;\n",
              "      box-shadow: 0px 1px 2px rgba(60, 64, 67, 0.3), 0px 1px 3px 1px rgba(60, 64, 67, 0.15);\n",
              "      fill: #174EA6;\n",
              "    }\n",
              "\n",
              "    [theme=dark] .colab-df-convert {\n",
              "      background-color: #3B4455;\n",
              "      fill: #D2E3FC;\n",
              "    }\n",
              "\n",
              "    [theme=dark] .colab-df-convert:hover {\n",
              "      background-color: #434B5C;\n",
              "      box-shadow: 0px 1px 3px 1px rgba(0, 0, 0, 0.15);\n",
              "      filter: drop-shadow(0px 1px 2px rgba(0, 0, 0, 0.3));\n",
              "      fill: #FFFFFF;\n",
              "    }\n",
              "  </style>\n",
              "\n",
              "      <script>\n",
              "        const buttonEl =\n",
              "          document.querySelector('#df-1c614889-91d1-46c2-a627-51129d7e92c0 button.colab-df-convert');\n",
              "        buttonEl.style.display =\n",
              "          google.colab.kernel.accessAllowed ? 'block' : 'none';\n",
              "\n",
              "        async function convertToInteractive(key) {\n",
              "          const element = document.querySelector('#df-1c614889-91d1-46c2-a627-51129d7e92c0');\n",
              "          const dataTable =\n",
              "            await google.colab.kernel.invokeFunction('convertToInteractive',\n",
              "                                                     [key], {});\n",
              "          if (!dataTable) return;\n",
              "\n",
              "          const docLinkHtml = 'Like what you see? Visit the ' +\n",
              "            '<a target=\"_blank\" href=https://colab.research.google.com/notebooks/data_table.ipynb>data table notebook</a>'\n",
              "            + ' to learn more about interactive tables.';\n",
              "          element.innerHTML = '';\n",
              "          dataTable['output_type'] = 'display_data';\n",
              "          await google.colab.output.renderOutput(dataTable, element);\n",
              "          const docLink = document.createElement('div');\n",
              "          docLink.innerHTML = docLinkHtml;\n",
              "          element.appendChild(docLink);\n",
              "        }\n",
              "      </script>\n",
              "    </div>\n",
              "  </div>\n",
              "  "
            ],
            "text/plain": [
              "                                          Books_Title  \\\n",
              "0                                      The Book Thief   \n",
              "1                           The Giver (The Giver  #1)   \n",
              "2                                           Jane Eyre   \n",
              "3   The Lightning Thief (Percy Jackson and the Oly...   \n",
              "4                                        Little Women   \n",
              "5                                     Charlotte's Web   \n",
              "6                                 Memoirs of a Geisha   \n",
              "7                                 Water for Elephants   \n",
              "8                     The Notebook (The Notebook  #1)   \n",
              "9                                  Gone with the Wind   \n",
              "10                                        The Shining   \n",
              "\n",
              "                                             Features  cosine_sim  \n",
              "0   [0.0, 0.05030586574040771, 0.05515067805889528...    1.000000  \n",
              "1   [0.0, 0.0259645535362346, 0.03838028852495473,...    0.990494  \n",
              "2   [0.0, 0.01828062520337142, 0.02363714961494453...    0.982311  \n",
              "3   [0.0, 0.04613191568604905, 0.05950764525528697...    0.987542  \n",
              "4   [0.0, 0.01828062520337142, 0.0259645535362346,...    0.987492  \n",
              "5   [0.0, 0.012000740664382115, 0.0182586144160484...    0.973157  \n",
              "6   [0.0, 0.009784702556960338, 0.0120007406643821...    0.969277  \n",
              "7   [0.0, 0.009784702556960338, 0.0182586144160484...    0.980956  \n",
              "8   [0.0, 0.01278949905961208, 0.01975211762866636...    0.983033  \n",
              "9   [0.0, 0.01469976136352012, 0.04162301640874411...    0.987770  \n",
              "10  [0.0, 0.01469976136352012, 0.03005265925190400...    0.993691  "
            ]
          },
          "execution_count": 44,
          "metadata": {},
          "output_type": "execute_result"
        }
      ],
      "source": [
        "books_rec['cosine_sim'] = cosine_sim\n",
        "books_rec"
      ]
    },
    {
      "cell_type": "markdown",
      "metadata": {
        "id": "AVaD9dEOqQPL"
      },
      "source": [
        "Kemudian untuk mempermudah dalam menganalisis data, kita menggabungkan hasil perhitungan cosine similarity yang didapat tadi ke dalam dataframe dan didapatkan output seperti di atas. Ternyata sistem rekomendasi yang dibuat sudah bisa melakukan rekomendasi berdasarkan kemiripan rating dan bahasa yang dimiliki oleh suatu buku."
      ]
    }
  ],
  "metadata": {
    "colab": {
      "provenance": []
    },
    "kernelspec": {
      "display_name": "Python 3.8.12 ('base')",
      "language": "python",
      "name": "python3"
    },
    "language_info": {
      "codemirror_mode": {
        "name": "ipython",
        "version": 3
      },
      "file_extension": ".py",
      "mimetype": "text/x-python",
      "name": "python",
      "nbconvert_exporter": "python",
      "pygments_lexer": "ipython3",
      "version": "3.8.12"
    },
    "orig_nbformat": 4,
    "vscode": {
      "interpreter": {
        "hash": "f08154012ddadd8e950e6e9e035c7a7b32c136e7647e9b7c77e02eb723a8bedb"
      }
    }
  },
  "nbformat": 4,
  "nbformat_minor": 0
}
